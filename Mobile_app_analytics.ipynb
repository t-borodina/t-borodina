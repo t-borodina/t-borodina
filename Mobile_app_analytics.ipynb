{
 "cells": [
  {
   "cell_type": "markdown",
   "metadata": {},
   "source": [
    "# Анализ продуктовых метрик мобильного приложения\n",
    "**Представьте, что вы работаете в компании, которая разрабатывает мобильные игры. К вам пришел менеджер с рядом задач по исследованию нескольких аспектов мобильного приложения:**\n",
    "1. В первую очередь, его интересует показатель **retention**. Напишите функцию для его подсчета.\n",
    "2. Помимо этого, в компании провели **A/B тестирование** наборов акционных предложений. На основе имеющихся данных определите, какой набор можно считать лучшим и на основе каких метрик стоит принять правильное решение.\n",
    "3. **Предложите метрики** для оценки результатов последнего прошедшего тематического события в игре."
   ]
  },
  {
   "cell_type": "markdown",
   "metadata": {},
   "source": [
    "## Задание 1\n",
    "**Retention** – один из самых важных показателей в компании. Ваша задача – **написать функцию, которая будет считать retention игроков (по дням от даты регистрации игрока)**. Данные лежат в папке shared и имеют следующую структуру:\n",
    "\n",
    "1. **reg_data.csv – данные о времени регистрации** https://disk.yandex.ru/d/IjdcpHnRLwbCsg\n",
    "    * reg_ts - время регистрации пользователей\n",
    "    * uid - id пользователя\n",
    "2. **auth_data.csv – данные о времени захода пользователей в игру** https://disk.yandex.ru/d/mYP6j9czw2bCIw \n",
    "    * auth_ts - время захода пользователей в игру\n",
    "    * uid - id пользователя\n",
    "\n",
    "Функция должна быть написана на python. В ходе решения можно тестировать работу функции как на полном датасете, так и на части (сэмпле) данных."
   ]
  },
  {
   "cell_type": "markdown",
   "metadata": {},
   "source": [
    "**Решение.** "
   ]
  },
  {
   "cell_type": "markdown",
   "metadata": {},
   "source": [
    "### Предварительный анализ данных.\n",
    "План:\n",
    "1. Импортируем данные.\n",
    "2. Проверка типов данных. \n",
    "3. Расчет строк и столбцов в таблицах.\n",
    "3. Расчет числа пропущенных значений.\n",
    "4. Расчет числа повторяющихся строк.\n",
    "5. Расчет числа уникальных значений для каждой колонки.\n",
    "6. Расчет общего периода данных."
   ]
  },
  {
   "cell_type": "code",
   "execution_count": 7,
   "metadata": {},
   "outputs": [],
   "source": [
    "# Импортируем нужные библиотеки:\n",
    "import pandas as pd\n",
    "import numpy as np\n",
    "\n",
    "import requests\n",
    "from urllib.parse import urlencode\n",
    "import json\n",
    "\n",
    "import plotly.express as px\n",
    "import seaborn as sns\n",
    "import matplotlib.pyplot as plt\n",
    "\n",
    "from scipy.stats import chi2_contingency, chi2 \n",
    "from scipy import stats\n",
    "import pingouin as pg\n",
    "\n",
    "%matplotlib inline \n",
    "#хотим, чтобы наши графики сразу интерактивно рисовались в Jupiter Notebook"
   ]
  },
  {
   "cell_type": "code",
   "execution_count": 8,
   "metadata": {},
   "outputs": [],
   "source": [
    "# Считаем файлы с Яндекс Диска:\n",
    "base_url = 'https://cloud-api.yandex.net/v1/disk/public/resources/download?' \n",
    "\n",
    "# Создадим функцию\n",
    "def get_download_url(public_key):\n",
    "    '''Загружает содержимое из файла на Яндекс Диске с использованием API.\n",
    "       Принимает на вход: public_key - публичный ключ файла на Яндекс Диске\n",
    "       Возвращает: ссылку для скачивания содержимого этого файла''' \n",
    "    # Получаем загрузочную ссылку:\n",
    "    final_url = base_url + urlencode(dict(public_key=public_key)) \n",
    "    response = requests.get(final_url) \n",
    "    download_url = json.loads(response.text)['href']  \n",
    "    return download_url "
   ]
  },
  {
   "cell_type": "code",
   "execution_count": 9,
   "metadata": {},
   "outputs": [
    {
     "name": "stdout",
     "output_type": "stream",
     "text": [
      "df_reg_data.shape: (1000000, 2)\n",
      "df_auth_data.shape: (9601013, 2)\n"
     ]
    }
   ],
   "source": [
    "# Ссылки на файлы\n",
    "public_key_reg_data ='https://disk.yandex.ru/d/IjdcpHnRLwbCsg'\n",
    "public_key_auth_data = 'https://disk.yandex.ru/d/mYP6j9czw2bCIw'   \n",
    "\n",
    "# Скачаем данные с использованием функции get_download_url\n",
    "df_reg_data = pd.read_csv(get_download_url(public_key_reg_data), sep = ';')\n",
    "df_auth_data = pd.read_csv(get_download_url(public_key_auth_data), sep = ';')\n",
    "\n",
    "# Проверим датафреймы\n",
    "print('df_reg_data.shape:', df_reg_data.shape)\n",
    "print('df_auth_data.shape:', df_auth_data.shape)"
   ]
  },
  {
   "cell_type": "code",
   "execution_count": 10,
   "metadata": {},
   "outputs": [
    {
     "name": "stdout",
     "output_type": "stream",
     "text": [
      "Типы данных в таблице в таблице reg_data:\n",
      "reg_ts    int64\n",
      "uid       int64\n",
      "dtype: object\n",
      "\n",
      "Типы данных в таблице в таблице auth_data:\n",
      "auth_ts    int64\n",
      "uid        int64\n",
      "dtype: object\n",
      "\n"
     ]
    }
   ],
   "source": [
    "# Посмотрим на типы данных:\n",
    "print('Типы данных в таблице в таблице reg_data:\\n{}\\n'.format(df_reg_data.dtypes))\n",
    "print('Типы данных в таблице в таблице auth_data:\\n{}\\n'.format(df_auth_data.dtypes))\n",
    "# Все данные загрузились с типом int. Время в форате timestamp- это количество секунд, которые прошли с начала до 1970 года."
   ]
  },
  {
   "cell_type": "code",
   "execution_count": 11,
   "metadata": {},
   "outputs": [],
   "source": [
    "# Создадим колонку date_reg c датой регистрации в таблице df_reg_data в формате DateTime: \n",
    "df_reg_data['date_reg'] = pd.to_datetime(pd.to_datetime(df_reg_data.reg_ts, unit='s').dt.date)\n",
    "                                         \n",
    "# Создадим колонку date_auth c датой входа в приложение в таблице df_auth_data в формате DateTime: \n",
    "df_auth_data['date_auth'] = pd.to_datetime(pd.to_datetime(df_auth_data.auth_ts, unit='s').dt.date)"
   ]
  },
  {
   "cell_type": "code",
   "execution_count": 12,
   "metadata": {},
   "outputs": [
    {
     "data": {
      "text/html": [
       "<div>\n",
       "<style scoped>\n",
       "    .dataframe tbody tr th:only-of-type {\n",
       "        vertical-align: middle;\n",
       "    }\n",
       "\n",
       "    .dataframe tbody tr th {\n",
       "        vertical-align: top;\n",
       "    }\n",
       "\n",
       "    .dataframe thead th {\n",
       "        text-align: right;\n",
       "    }\n",
       "</style>\n",
       "<table border=\"1\" class=\"dataframe\">\n",
       "  <thead>\n",
       "    <tr style=\"text-align: right;\">\n",
       "      <th></th>\n",
       "      <th>reg_ts</th>\n",
       "      <th>uid</th>\n",
       "      <th>date_reg</th>\n",
       "    </tr>\n",
       "  </thead>\n",
       "  <tbody>\n",
       "    <tr>\n",
       "      <th>0</th>\n",
       "      <td>911382223</td>\n",
       "      <td>1</td>\n",
       "      <td>1998-11-18</td>\n",
       "    </tr>\n",
       "    <tr>\n",
       "      <th>1</th>\n",
       "      <td>932683089</td>\n",
       "      <td>2</td>\n",
       "      <td>1999-07-22</td>\n",
       "    </tr>\n",
       "    <tr>\n",
       "      <th>2</th>\n",
       "      <td>947802447</td>\n",
       "      <td>3</td>\n",
       "      <td>2000-01-13</td>\n",
       "    </tr>\n",
       "    <tr>\n",
       "      <th>3</th>\n",
       "      <td>959523541</td>\n",
       "      <td>4</td>\n",
       "      <td>2000-05-28</td>\n",
       "    </tr>\n",
       "    <tr>\n",
       "      <th>4</th>\n",
       "      <td>969103313</td>\n",
       "      <td>5</td>\n",
       "      <td>2000-09-16</td>\n",
       "    </tr>\n",
       "    <tr>\n",
       "      <th>...</th>\n",
       "      <td>...</td>\n",
       "      <td>...</td>\n",
       "      <td>...</td>\n",
       "    </tr>\n",
       "    <tr>\n",
       "      <th>999995</th>\n",
       "      <td>1600874034</td>\n",
       "      <td>1110618</td>\n",
       "      <td>2020-09-23</td>\n",
       "    </tr>\n",
       "    <tr>\n",
       "      <th>999996</th>\n",
       "      <td>1600874086</td>\n",
       "      <td>1110619</td>\n",
       "      <td>2020-09-23</td>\n",
       "    </tr>\n",
       "    <tr>\n",
       "      <th>999997</th>\n",
       "      <td>1600874139</td>\n",
       "      <td>1110620</td>\n",
       "      <td>2020-09-23</td>\n",
       "    </tr>\n",
       "    <tr>\n",
       "      <th>999998</th>\n",
       "      <td>1600874191</td>\n",
       "      <td>1110621</td>\n",
       "      <td>2020-09-23</td>\n",
       "    </tr>\n",
       "    <tr>\n",
       "      <th>999999</th>\n",
       "      <td>1600874244</td>\n",
       "      <td>1110622</td>\n",
       "      <td>2020-09-23</td>\n",
       "    </tr>\n",
       "  </tbody>\n",
       "</table>\n",
       "<p>1000000 rows × 3 columns</p>\n",
       "</div>"
      ],
      "text/plain": [
       "            reg_ts      uid   date_reg\n",
       "0        911382223        1 1998-11-18\n",
       "1        932683089        2 1999-07-22\n",
       "2        947802447        3 2000-01-13\n",
       "3        959523541        4 2000-05-28\n",
       "4        969103313        5 2000-09-16\n",
       "...            ...      ...        ...\n",
       "999995  1600874034  1110618 2020-09-23\n",
       "999996  1600874086  1110619 2020-09-23\n",
       "999997  1600874139  1110620 2020-09-23\n",
       "999998  1600874191  1110621 2020-09-23\n",
       "999999  1600874244  1110622 2020-09-23\n",
       "\n",
       "[1000000 rows x 3 columns]"
      ]
     },
     "execution_count": 12,
     "metadata": {},
     "output_type": "execute_result"
    }
   ],
   "source": [
    "# Таблица с данными о времени регистрации:\n",
    "df_reg_data\n",
    "# В таблице 1000000 строк и 3 колонки"
   ]
  },
  {
   "cell_type": "code",
   "execution_count": 13,
   "metadata": {},
   "outputs": [
    {
     "data": {
      "text/html": [
       "<div>\n",
       "<style scoped>\n",
       "    .dataframe tbody tr th:only-of-type {\n",
       "        vertical-align: middle;\n",
       "    }\n",
       "\n",
       "    .dataframe tbody tr th {\n",
       "        vertical-align: top;\n",
       "    }\n",
       "\n",
       "    .dataframe thead th {\n",
       "        text-align: right;\n",
       "    }\n",
       "</style>\n",
       "<table border=\"1\" class=\"dataframe\">\n",
       "  <thead>\n",
       "    <tr style=\"text-align: right;\">\n",
       "      <th></th>\n",
       "      <th>auth_ts</th>\n",
       "      <th>uid</th>\n",
       "      <th>date_auth</th>\n",
       "    </tr>\n",
       "  </thead>\n",
       "  <tbody>\n",
       "    <tr>\n",
       "      <th>0</th>\n",
       "      <td>911382223</td>\n",
       "      <td>1</td>\n",
       "      <td>1998-11-18</td>\n",
       "    </tr>\n",
       "    <tr>\n",
       "      <th>1</th>\n",
       "      <td>932683089</td>\n",
       "      <td>2</td>\n",
       "      <td>1999-07-22</td>\n",
       "    </tr>\n",
       "    <tr>\n",
       "      <th>2</th>\n",
       "      <td>932921206</td>\n",
       "      <td>2</td>\n",
       "      <td>1999-07-25</td>\n",
       "    </tr>\n",
       "    <tr>\n",
       "      <th>3</th>\n",
       "      <td>933393015</td>\n",
       "      <td>2</td>\n",
       "      <td>1999-07-31</td>\n",
       "    </tr>\n",
       "    <tr>\n",
       "      <th>4</th>\n",
       "      <td>933875379</td>\n",
       "      <td>2</td>\n",
       "      <td>1999-08-05</td>\n",
       "    </tr>\n",
       "    <tr>\n",
       "      <th>...</th>\n",
       "      <td>...</td>\n",
       "      <td>...</td>\n",
       "      <td>...</td>\n",
       "    </tr>\n",
       "    <tr>\n",
       "      <th>9601008</th>\n",
       "      <td>1600874034</td>\n",
       "      <td>1110618</td>\n",
       "      <td>2020-09-23</td>\n",
       "    </tr>\n",
       "    <tr>\n",
       "      <th>9601009</th>\n",
       "      <td>1600874086</td>\n",
       "      <td>1110619</td>\n",
       "      <td>2020-09-23</td>\n",
       "    </tr>\n",
       "    <tr>\n",
       "      <th>9601010</th>\n",
       "      <td>1600874139</td>\n",
       "      <td>1110620</td>\n",
       "      <td>2020-09-23</td>\n",
       "    </tr>\n",
       "    <tr>\n",
       "      <th>9601011</th>\n",
       "      <td>1600874191</td>\n",
       "      <td>1110621</td>\n",
       "      <td>2020-09-23</td>\n",
       "    </tr>\n",
       "    <tr>\n",
       "      <th>9601012</th>\n",
       "      <td>1600874244</td>\n",
       "      <td>1110622</td>\n",
       "      <td>2020-09-23</td>\n",
       "    </tr>\n",
       "  </tbody>\n",
       "</table>\n",
       "<p>9601013 rows × 3 columns</p>\n",
       "</div>"
      ],
      "text/plain": [
       "            auth_ts      uid  date_auth\n",
       "0         911382223        1 1998-11-18\n",
       "1         932683089        2 1999-07-22\n",
       "2         932921206        2 1999-07-25\n",
       "3         933393015        2 1999-07-31\n",
       "4         933875379        2 1999-08-05\n",
       "...             ...      ...        ...\n",
       "9601008  1600874034  1110618 2020-09-23\n",
       "9601009  1600874086  1110619 2020-09-23\n",
       "9601010  1600874139  1110620 2020-09-23\n",
       "9601011  1600874191  1110621 2020-09-23\n",
       "9601012  1600874244  1110622 2020-09-23\n",
       "\n",
       "[9601013 rows x 3 columns]"
      ]
     },
     "execution_count": 13,
     "metadata": {},
     "output_type": "execute_result"
    }
   ],
   "source": [
    "# Таблица с данными о времени захода пользователя в игру:\n",
    "df_auth_data\n",
    "# В таблице 9601013 строк и 3 колонки"
   ]
  },
  {
   "cell_type": "code",
   "execution_count": 14,
   "metadata": {},
   "outputs": [
    {
     "name": "stdout",
     "output_type": "stream",
     "text": [
      "Пропущенных значений в таблице df_reg_data:\n",
      "reg_ts      0\n",
      "uid         0\n",
      "date_reg    0\n",
      "dtype: int64\n",
      "\n",
      "Пропущенных значений в таблице df_auth_data:\n",
      "auth_ts      0\n",
      "uid          0\n",
      "date_auth    0\n",
      "dtype: int64\n"
     ]
    }
   ],
   "source": [
    "# Посчитаем число пропущенных значений:\n",
    "print('Пропущенных значений в таблице df_reg_data:\\n{}\\n'.format(df_reg_data.isna().sum()))\n",
    "print('Пропущенных значений в таблице df_auth_data:\\n{}'.format(df_auth_data.isna().sum()))"
   ]
  },
  {
   "cell_type": "markdown",
   "metadata": {},
   "source": [
    "Пропущенных значений нет."
   ]
  },
  {
   "cell_type": "code",
   "execution_count": 15,
   "metadata": {},
   "outputs": [
    {
     "name": "stdout",
     "output_type": "stream",
     "text": [
      "Повторяющихся строк в таблице df_reg_data: 0\n",
      "Повторяющихся строк в таблице df_auth_data: 0\n"
     ]
    }
   ],
   "source": [
    "# Посчитаем число повторяющихся строк:\n",
    "print('Повторяющихся строк в таблице df_reg_data: {}'.format(df_reg_data.duplicated().sum()))\n",
    "print('Повторяющихся строк в таблице df_auth_data: {}'.format(df_auth_data.duplicated().sum()))"
   ]
  },
  {
   "cell_type": "markdown",
   "metadata": {},
   "source": [
    "Повторяющихся строк нет ни в одной таблице."
   ]
  },
  {
   "cell_type": "code",
   "execution_count": 16,
   "metadata": {},
   "outputs": [
    {
     "name": "stdout",
     "output_type": "stream",
     "text": [
      "Число уникальных значений в таблице df_reg_data:\n",
      "reg_ts      1000000\n",
      "uid         1000000\n",
      "date_reg       5110\n",
      "dtype: int64\n",
      "\n",
      "Число уникальных значений в таблице df_auth_data:\n",
      "auth_ts      9180915\n",
      "uid          1000000\n",
      "date_auth       6169\n",
      "dtype: int64\n",
      "\n"
     ]
    }
   ],
   "source": [
    "# Посчитаем число уникальных значений для каждой колонки:\n",
    "print('Число уникальных значений в таблице df_reg_data:\\n{}\\n'.format(df_reg_data.nunique()))\n",
    "print('Число уникальных значений в таблице df_auth_data:\\n{}\\n'.format(df_auth_data.nunique()))"
   ]
  },
  {
   "cell_type": "markdown",
   "metadata": {},
   "source": [
    "Видим, что число уникальных значений в колонке \"*uid*\" в таблицах **df_reg_data** и **df_auth_data** одно и то же, и равно 1000000, что говорит о том, что пользователей одинаковое число в этих таблицах. То есть общая колонка \"*uid*\" для этих двух таблиц содержит уникальные значения, и при соединении по ней любым из методов merge не будет происходить декартового произведения строк.  \n",
    "В то же время в таблице **df_reg_data** число уникальных строк с временем регистрации пользователей совпадает с количеством уникальных пользователей, и равно 1000000, т.е. в таблице **df_reg_data** для каждого пользователя прописано свое уникальное время регистрации (скорее всего в данных ошибок нет, и они собраны верно).  \n",
    "А вот в таблице **df_auth_data** всего строк 9601013. При этом уникальных пользователей 1000000, а число уникальных строк с временем захода пользователя в игру равно 9180915 (меньше общего числа строк, т.е. несколько пользователей заходили в игру в одно и то же время), и при этом один и тот же пользователь заходил в игру много раз.   "
   ]
  },
  {
   "cell_type": "code",
   "execution_count": 17,
   "metadata": {},
   "outputs": [
    {
     "name": "stdout",
     "output_type": "stream",
     "text": [
      "Минимальная дата регистрации: 1998-11-18 00:00:00\n",
      "Максимальная дата регистрации: 2020-09-23 00:00:00\n"
     ]
    }
   ],
   "source": [
    "# Посчитаем минимальную и максимальную дату регистрации:\n",
    "print('Минимальная дата регистрации: {}'.format(df_reg_data.date_reg.min()))\n",
    "print('Максимальная дата регистрации: {}'.format(df_reg_data.date_reg.max()))"
   ]
  },
  {
   "cell_type": "markdown",
   "metadata": {},
   "source": [
    "**То есть в нашей таблице данные за 2 года.** Поскольку нам требуется найти retention *по дням от даты регистрации*, мы не можем использовать все данные для визуализации и расчета retention. Поэтому начальная дата для расчета retention и конечная дата для расчета retention будет задаваться пользователем ПК. Также пользователь ПК сам в ручную будет задавать количество дней, за которое он хочет посчитать retention."
   ]
  },
  {
   "cell_type": "markdown",
   "metadata": {},
   "source": [
    "**Retention — это метрика, отвечающая на вопрос, сколько людей вернулись в день N после первого входа в продукт. Retention измеряется в процентах, то есть показывает долю вернувшихся людей от изначально пришедших.**"
   ]
  },
  {
   "cell_type": "markdown",
   "metadata": {},
   "source": [
    "### Напишем план для расчета *retention*:\n",
    "1. Объединить данные из двух датафреймов df_reg_data и df_auth_data.\n",
    "2. Проверить, что пользователь ПК ввел правильные даты расчетного периода.\n",
    "3. Отфильтровать данные внутри расчетного периода.\n",
    "4. Собрать датафрейм с расчитанными когортами (датой регистрации) по дням пользования приложением. Посчитать число пользователей в каждой ячейке этой таблицы. \n",
    "5. Посчитать для каждой кагорты retention - долю вернувшихся пользователей на день N"
   ]
  },
  {
   "cell_type": "code",
   "execution_count": 18,
   "metadata": {},
   "outputs": [],
   "source": [
    "def func_retention(df_reg_data, df_auth_data, start_date, end_date): \n",
    "    '''Принимает на вход: \n",
    "        1. reg_data - датафрейм с датой регистрации\n",
    "        2. auth_data - датафрейм с датой входа в приложение\n",
    "        3. start_date - дата регистрации, начиная с которой считаем retention (формат \"YYYY-MM-DD\")\n",
    "        4. end_date - дата регистрации, до которой считаем retention (формат \"YYYY-MM-DD\")\n",
    "       Строит: визуализацию heatmap\n",
    "       Возвращает: таблицу Retention \n",
    "    '''\n",
    "    start_date = pd.to_datetime(start_date)\n",
    "    end_date = pd.to_datetime(end_date)\n",
    "    \n",
    "    min_date = df_reg_data['date_reg'].min()   # минимальная дата в исходных данных\n",
    "    max_date = df_reg_data['date_reg'].max()   # максимальная дата в исходных данных\n",
    "    # Проверка входных данных:\n",
    "    if start_date<min_date  or  start_date>max_date  or  end_date<min_date  or  end_date>max_date  or  start_date>end_date:\n",
    "        mess_1 = \"Исходные данные находится в диапазоне {min_date}  -  {max_date} \\n\"\n",
    "        mess_2 = \"Заданный расчетный период находится за пределами исходных данных, или start_date меньше end_date!\"\n",
    "        message = mess_1 + mess_2\n",
    "        return (print(message.format(min_date = min_date, max_date = max_date)))\n",
    "    else:\n",
    "        # Соединим два датафрейма  df_auth_data  и  df_reg_data  по уникальной колонке uid, и оставим колонки с датой:\n",
    "        df_all = df_auth_data.merge(df_reg_data, on ='uid', how = 'left')[['date_reg', 'date_auth', 'uid']]\n",
    "        \n",
    "        # Посчитаем количество дней между датой регистрации и датой захода в игру (дни пользования приложением)\n",
    "        df_all['days'] = df_all.date_auth - df_all.date_reg\n",
    "        df_all['days'] = df_all.days.dt.days\n",
    "        \n",
    "        # выделим требуемый период для кагорт:\n",
    "        df_period = df_all.loc[(df_all.date_reg >= start_date) & (df_all.date_auth <= end_date)]\n",
    "        \n",
    "        # Соберем датафрейм с расчитанными когортами по дням. \n",
    "        # Для каждой даты регистрации и для каждого дня пользования приложением посчитаем число пользователей:\n",
    "        cohort = df_period.groupby(['date_reg', 'days']).agg({'uid':'count'})\n",
    "\n",
    "        # Преобразуем таблицу к виду: индексы - дата регистрации (кагорта пользователей), \n",
    "        # столбцы - дни пользования приложением, значения - число пользователей\n",
    "        cohort = cohort.pivot_table(index='date_reg', columns='days', values='uid')\n",
    "\n",
    "        # Делим количество уникальных клиентов в каждом периоде на общее количество клиентов в каждой кагорте.\n",
    "        # Деление делаем по строкам. Затем умножаем на 100. \n",
    "        # Общее количество пользователей в каждой кагорте - это число пользователей в кагорте с номером 0.\n",
    "        retention = cohort.divide(cohort[0], axis='index').mul(100).round(0)\n",
    "        \n",
    "        #построим heatmap для визуализации данных:\n",
    "        plt.figure(figsize=(17,8))\n",
    "        ax = sns.heatmap(retention, vmin=0, vmax=8, annot=True, fmt='.0f', cmap='RdPu')\n",
    "        plt.xlabel('Days of using the app',size= 16)\n",
    "        plt.ylabel('Cohorts', size= 16)\n",
    "        plt.title('Retention rate %', size= 18)\n",
    "        ax.set_yticklabels([t.get_text().split(\"T\")[0] for t in ax.get_yticklabels()], rotation=0)\n",
    "        plt.show()\n",
    "        return retention"
   ]
  },
  {
   "cell_type": "code",
   "execution_count": 19,
   "metadata": {},
   "outputs": [],
   "source": [
    "# Пользователь ПК задает расчетный период в формате \"YYYY-MM-DD\":\n",
    "start_date = \"2020-01-01\"\n",
    "end_date = \"2020-01-15\""
   ]
  },
  {
   "cell_type": "code",
   "execution_count": 20,
   "metadata": {},
   "outputs": [
    {
     "data": {
      "image/png": "[encoded data removed]",
      "text/plain": [
       "<Figure size 1700x800 with 2 Axes>"
      ]
     },
     "metadata": {},
     "output_type": "display_data"
    },
    {
     "data": {
      "text/html": [
       "<div>\n",
       "<style scoped>\n",
       "    .dataframe tbody tr th:only-of-type {\n",
       "        vertical-align: middle;\n",
       "    }\n",
       "\n",
       "    .dataframe tbody tr th {\n",
       "        vertical-align: top;\n",
       "    }\n",
       "\n",
       "    .dataframe thead th {\n",
       "        text-align: right;\n",
       "    }\n",
       "</style>\n",
       "<table border=\"1\" class=\"dataframe\">\n",
       "  <thead>\n",
       "    <tr style=\"text-align: right;\">\n",
       "      <th>days</th>\n",
       "      <th>0</th>\n",
       "      <th>1</th>\n",
       "      <th>2</th>\n",
       "      <th>3</th>\n",
       "      <th>4</th>\n",
       "      <th>5</th>\n",
       "      <th>6</th>\n",
       "      <th>7</th>\n",
       "      <th>8</th>\n",
       "      <th>9</th>\n",
       "      <th>10</th>\n",
       "      <th>11</th>\n",
       "      <th>12</th>\n",
       "      <th>13</th>\n",
       "      <th>14</th>\n",
       "    </tr>\n",
       "    <tr>\n",
       "      <th>date_reg</th>\n",
       "      <th></th>\n",
       "      <th></th>\n",
       "      <th></th>\n",
       "      <th></th>\n",
       "      <th></th>\n",
       "      <th></th>\n",
       "      <th></th>\n",
       "      <th></th>\n",
       "      <th></th>\n",
       "      <th></th>\n",
       "      <th></th>\n",
       "      <th></th>\n",
       "      <th></th>\n",
       "      <th></th>\n",
       "      <th></th>\n",
       "    </tr>\n",
       "  </thead>\n",
       "  <tbody>\n",
       "    <tr>\n",
       "      <th>2020-01-01</th>\n",
       "      <td>100.0</td>\n",
       "      <td>3.0</td>\n",
       "      <td>5.0</td>\n",
       "      <td>3.0</td>\n",
       "      <td>6.0</td>\n",
       "      <td>6.0</td>\n",
       "      <td>8.0</td>\n",
       "      <td>5.0</td>\n",
       "      <td>4.0</td>\n",
       "      <td>4.0</td>\n",
       "      <td>5.0</td>\n",
       "      <td>7.0</td>\n",
       "      <td>5.0</td>\n",
       "      <td>5.0</td>\n",
       "      <td>5.0</td>\n",
       "    </tr>\n",
       "    <tr>\n",
       "      <th>2020-01-02</th>\n",
       "      <td>100.0</td>\n",
       "      <td>2.0</td>\n",
       "      <td>5.0</td>\n",
       "      <td>5.0</td>\n",
       "      <td>5.0</td>\n",
       "      <td>6.0</td>\n",
       "      <td>8.0</td>\n",
       "      <td>6.0</td>\n",
       "      <td>6.0</td>\n",
       "      <td>5.0</td>\n",
       "      <td>6.0</td>\n",
       "      <td>6.0</td>\n",
       "      <td>5.0</td>\n",
       "      <td>5.0</td>\n",
       "      <td>NaN</td>\n",
       "    </tr>\n",
       "    <tr>\n",
       "      <th>2020-01-03</th>\n",
       "      <td>100.0</td>\n",
       "      <td>2.0</td>\n",
       "      <td>3.0</td>\n",
       "      <td>4.0</td>\n",
       "      <td>5.0</td>\n",
       "      <td>7.0</td>\n",
       "      <td>8.0</td>\n",
       "      <td>5.0</td>\n",
       "      <td>5.0</td>\n",
       "      <td>4.0</td>\n",
       "      <td>5.0</td>\n",
       "      <td>6.0</td>\n",
       "      <td>6.0</td>\n",
       "      <td>NaN</td>\n",
       "      <td>NaN</td>\n",
       "    </tr>\n",
       "    <tr>\n",
       "      <th>2020-01-04</th>\n",
       "      <td>100.0</td>\n",
       "      <td>1.0</td>\n",
       "      <td>4.0</td>\n",
       "      <td>5.0</td>\n",
       "      <td>5.0</td>\n",
       "      <td>6.0</td>\n",
       "      <td>7.0</td>\n",
       "      <td>5.0</td>\n",
       "      <td>4.0</td>\n",
       "      <td>5.0</td>\n",
       "      <td>5.0</td>\n",
       "      <td>5.0</td>\n",
       "      <td>NaN</td>\n",
       "      <td>NaN</td>\n",
       "      <td>NaN</td>\n",
       "    </tr>\n",
       "    <tr>\n",
       "      <th>2020-01-05</th>\n",
       "      <td>100.0</td>\n",
       "      <td>2.0</td>\n",
       "      <td>4.0</td>\n",
       "      <td>5.0</td>\n",
       "      <td>4.0</td>\n",
       "      <td>5.0</td>\n",
       "      <td>8.0</td>\n",
       "      <td>5.0</td>\n",
       "      <td>4.0</td>\n",
       "      <td>5.0</td>\n",
       "      <td>4.0</td>\n",
       "      <td>NaN</td>\n",
       "      <td>NaN</td>\n",
       "      <td>NaN</td>\n",
       "      <td>NaN</td>\n",
       "    </tr>\n",
       "    <tr>\n",
       "      <th>2020-01-06</th>\n",
       "      <td>100.0</td>\n",
       "      <td>3.0</td>\n",
       "      <td>4.0</td>\n",
       "      <td>5.0</td>\n",
       "      <td>4.0</td>\n",
       "      <td>5.0</td>\n",
       "      <td>7.0</td>\n",
       "      <td>6.0</td>\n",
       "      <td>5.0</td>\n",
       "      <td>5.0</td>\n",
       "      <td>NaN</td>\n",
       "      <td>NaN</td>\n",
       "      <td>NaN</td>\n",
       "      <td>NaN</td>\n",
       "      <td>NaN</td>\n",
       "    </tr>\n",
       "    <tr>\n",
       "      <th>2020-01-07</th>\n",
       "      <td>100.0</td>\n",
       "      <td>2.0</td>\n",
       "      <td>5.0</td>\n",
       "      <td>4.0</td>\n",
       "      <td>6.0</td>\n",
       "      <td>5.0</td>\n",
       "      <td>8.0</td>\n",
       "      <td>5.0</td>\n",
       "      <td>6.0</td>\n",
       "      <td>NaN</td>\n",
       "      <td>NaN</td>\n",
       "      <td>NaN</td>\n",
       "      <td>NaN</td>\n",
       "      <td>NaN</td>\n",
       "      <td>NaN</td>\n",
       "    </tr>\n",
       "    <tr>\n",
       "      <th>2020-01-08</th>\n",
       "      <td>100.0</td>\n",
       "      <td>2.0</td>\n",
       "      <td>4.0</td>\n",
       "      <td>4.0</td>\n",
       "      <td>5.0</td>\n",
       "      <td>5.0</td>\n",
       "      <td>8.0</td>\n",
       "      <td>5.0</td>\n",
       "      <td>NaN</td>\n",
       "      <td>NaN</td>\n",
       "      <td>NaN</td>\n",
       "      <td>NaN</td>\n",
       "      <td>NaN</td>\n",
       "      <td>NaN</td>\n",
       "      <td>NaN</td>\n",
       "    </tr>\n",
       "    <tr>\n",
       "      <th>2020-01-09</th>\n",
       "      <td>100.0</td>\n",
       "      <td>2.0</td>\n",
       "      <td>4.0</td>\n",
       "      <td>5.0</td>\n",
       "      <td>4.0</td>\n",
       "      <td>6.0</td>\n",
       "      <td>7.0</td>\n",
       "      <td>NaN</td>\n",
       "      <td>NaN</td>\n",
       "      <td>NaN</td>\n",
       "      <td>NaN</td>\n",
       "      <td>NaN</td>\n",
       "      <td>NaN</td>\n",
       "      <td>NaN</td>\n",
       "      <td>NaN</td>\n",
       "    </tr>\n",
       "    <tr>\n",
       "      <th>2020-01-10</th>\n",
       "      <td>100.0</td>\n",
       "      <td>2.0</td>\n",
       "      <td>4.0</td>\n",
       "      <td>5.0</td>\n",
       "      <td>4.0</td>\n",
       "      <td>6.0</td>\n",
       "      <td>NaN</td>\n",
       "      <td>NaN</td>\n",
       "      <td>NaN</td>\n",
       "      <td>NaN</td>\n",
       "      <td>NaN</td>\n",
       "      <td>NaN</td>\n",
       "      <td>NaN</td>\n",
       "      <td>NaN</td>\n",
       "      <td>NaN</td>\n",
       "    </tr>\n",
       "    <tr>\n",
       "      <th>2020-01-11</th>\n",
       "      <td>100.0</td>\n",
       "      <td>2.0</td>\n",
       "      <td>4.0</td>\n",
       "      <td>5.0</td>\n",
       "      <td>5.0</td>\n",
       "      <td>NaN</td>\n",
       "      <td>NaN</td>\n",
       "      <td>NaN</td>\n",
       "      <td>NaN</td>\n",
       "      <td>NaN</td>\n",
       "      <td>NaN</td>\n",
       "      <td>NaN</td>\n",
       "      <td>NaN</td>\n",
       "      <td>NaN</td>\n",
       "      <td>NaN</td>\n",
       "    </tr>\n",
       "    <tr>\n",
       "      <th>2020-01-12</th>\n",
       "      <td>100.0</td>\n",
       "      <td>2.0</td>\n",
       "      <td>5.0</td>\n",
       "      <td>4.0</td>\n",
       "      <td>NaN</td>\n",
       "      <td>NaN</td>\n",
       "      <td>NaN</td>\n",
       "      <td>NaN</td>\n",
       "      <td>NaN</td>\n",
       "      <td>NaN</td>\n",
       "      <td>NaN</td>\n",
       "      <td>NaN</td>\n",
       "      <td>NaN</td>\n",
       "      <td>NaN</td>\n",
       "      <td>NaN</td>\n",
       "    </tr>\n",
       "    <tr>\n",
       "      <th>2020-01-13</th>\n",
       "      <td>100.0</td>\n",
       "      <td>2.0</td>\n",
       "      <td>4.0</td>\n",
       "      <td>NaN</td>\n",
       "      <td>NaN</td>\n",
       "      <td>NaN</td>\n",
       "      <td>NaN</td>\n",
       "      <td>NaN</td>\n",
       "      <td>NaN</td>\n",
       "      <td>NaN</td>\n",
       "      <td>NaN</td>\n",
       "      <td>NaN</td>\n",
       "      <td>NaN</td>\n",
       "      <td>NaN</td>\n",
       "      <td>NaN</td>\n",
       "    </tr>\n",
       "    <tr>\n",
       "      <th>2020-01-14</th>\n",
       "      <td>100.0</td>\n",
       "      <td>2.0</td>\n",
       "      <td>NaN</td>\n",
       "      <td>NaN</td>\n",
       "      <td>NaN</td>\n",
       "      <td>NaN</td>\n",
       "      <td>NaN</td>\n",
       "      <td>NaN</td>\n",
       "      <td>NaN</td>\n",
       "      <td>NaN</td>\n",
       "      <td>NaN</td>\n",
       "      <td>NaN</td>\n",
       "      <td>NaN</td>\n",
       "      <td>NaN</td>\n",
       "      <td>NaN</td>\n",
       "    </tr>\n",
       "    <tr>\n",
       "      <th>2020-01-15</th>\n",
       "      <td>100.0</td>\n",
       "      <td>NaN</td>\n",
       "      <td>NaN</td>\n",
       "      <td>NaN</td>\n",
       "      <td>NaN</td>\n",
       "      <td>NaN</td>\n",
       "      <td>NaN</td>\n",
       "      <td>NaN</td>\n",
       "      <td>NaN</td>\n",
       "      <td>NaN</td>\n",
       "      <td>NaN</td>\n",
       "      <td>NaN</td>\n",
       "      <td>NaN</td>\n",
       "      <td>NaN</td>\n",
       "      <td>NaN</td>\n",
       "    </tr>\n",
       "  </tbody>\n",
       "</table>\n",
       "</div>"
      ],
      "text/plain": [
       "days           0    1    2    3    4    5    6    7    8    9    10   11   12  \\\n",
       "date_reg                                                                        \n",
       "2020-01-01  100.0  3.0  5.0  3.0  6.0  6.0  8.0  5.0  4.0  4.0  5.0  7.0  5.0   \n",
       "2020-01-02  100.0  2.0  5.0  5.0  5.0  6.0  8.0  6.0  6.0  5.0  6.0  6.0  5.0   \n",
       "2020-01-03  100.0  2.0  3.0  4.0  5.0  7.0  8.0  5.0  5.0  4.0  5.0  6.0  6.0   \n",
       "2020-01-04  100.0  1.0  4.0  5.0  5.0  6.0  7.0  5.0  4.0  5.0  5.0  5.0  NaN   \n",
       "2020-01-05  100.0  2.0  4.0  5.0  4.0  5.0  8.0  5.0  4.0  5.0  4.0  NaN  NaN   \n",
       "2020-01-06  100.0  3.0  4.0  5.0  4.0  5.0  7.0  6.0  5.0  5.0  NaN  NaN  NaN   \n",
       "2020-01-07  100.0  2.0  5.0  4.0  6.0  5.0  8.0  5.0  6.0  NaN  NaN  NaN  NaN   \n",
       "2020-01-08  100.0  2.0  4.0  4.0  5.0  5.0  8.0  5.0  NaN  NaN  NaN  NaN  NaN   \n",
       "2020-01-09  100.0  2.0  4.0  5.0  4.0  6.0  7.0  NaN  NaN  NaN  NaN  NaN  NaN   \n",
       "2020-01-10  100.0  2.0  4.0  5.0  4.0  6.0  NaN  NaN  NaN  NaN  NaN  NaN  NaN   \n",
       "2020-01-11  100.0  2.0  4.0  5.0  5.0  NaN  NaN  NaN  NaN  NaN  NaN  NaN  NaN   \n",
       "2020-01-12  100.0  2.0  5.0  4.0  NaN  NaN  NaN  NaN  NaN  NaN  NaN  NaN  NaN   \n",
       "2020-01-13  100.0  2.0  4.0  NaN  NaN  NaN  NaN  NaN  NaN  NaN  NaN  NaN  NaN   \n",
       "2020-01-14  100.0  2.0  NaN  NaN  NaN  NaN  NaN  NaN  NaN  NaN  NaN  NaN  NaN   \n",
       "2020-01-15  100.0  NaN  NaN  NaN  NaN  NaN  NaN  NaN  NaN  NaN  NaN  NaN  NaN   \n",
       "\n",
       "days         13   14  \n",
       "date_reg              \n",
       "2020-01-01  5.0  5.0  \n",
       "2020-01-02  5.0  NaN  \n",
       "2020-01-03  NaN  NaN  \n",
       "2020-01-04  NaN  NaN  \n",
       "2020-01-05  NaN  NaN  \n",
       "2020-01-06  NaN  NaN  \n",
       "2020-01-07  NaN  NaN  \n",
       "2020-01-08  NaN  NaN  \n",
       "2020-01-09  NaN  NaN  \n",
       "2020-01-10  NaN  NaN  \n",
       "2020-01-11  NaN  NaN  \n",
       "2020-01-12  NaN  NaN  \n",
       "2020-01-13  NaN  NaN  \n",
       "2020-01-14  NaN  NaN  \n",
       "2020-01-15  NaN  NaN  "
      ]
     },
     "execution_count": 20,
     "metadata": {},
     "output_type": "execute_result"
    }
   ],
   "source": [
    "func_retention(df_reg_data, df_auth_data, start_date, end_date)"
   ]
  },
  {
   "cell_type": "markdown",
   "metadata": {},
   "source": [
    "## Задание 2\n",
    "Имеются **результаты A/B теста**, в котором двум группам пользователей предлагались различные наборы акционных предложений. Известно, что *ARPU в тестовой группе выше на 5%, чем в контрольной. При этом в контрольной группе 1928 игроков из 202103 оказались платящими, а в тестовой – 1805 из 202667.*   \n",
    "**Вопрос:** *Какой набор предложений можно считать лучшим? Какие метрики стоит проанализировать для принятия правильного решения и как?*"
   ]
  },
  {
   "cell_type": "markdown",
   "metadata": {},
   "source": [
    "**Описание данных:**\n",
    "* user_id - идентификатор пользователя\n",
    "* revenue - выручка на пользователя\n",
    "* testgroup - группа пользователей:\n",
    "    * а - контрольная (без изменений)\n",
    "    * b- тестовая (с изменениями)"
   ]
  },
  {
   "cell_type": "markdown",
   "metadata": {},
   "source": [
    "**Решение:**"
   ]
  },
  {
   "cell_type": "code",
   "execution_count": 21,
   "metadata": {},
   "outputs": [
    {
     "name": "stdout",
     "output_type": "stream",
     "text": [
      "df.shape: (404770, 3)\n"
     ]
    }
   ],
   "source": [
    "# Ссылка на файл\n",
    "public_key = 'https://disk.yandex.ru/d/SOkIsD5A8xlI7Q'\n",
    "\n",
    "# Скачаем данные c яндекс диска с использованием функции get_download_url\n",
    "df = pd.read_csv(get_download_url(public_key), sep = ';')\n",
    "\n",
    "# Проверим датафрейм\n",
    "print('df.shape:', df.shape)"
   ]
  },
  {
   "cell_type": "markdown",
   "metadata": {},
   "source": [
    "### Предварительный анализ данных.\n",
    "План:\n",
    "1. Импортируем данные.\n",
    "2. Проверка типов данных. \n",
    "3. Расчет числа пропущенных значений.\n",
    "4. Расчет числа повторяющихся строк.\n",
    "5. Расчет числа строк и столбцов в таблице.\n",
    "6. Расчет числа уникальных значений для каждой колонки."
   ]
  },
  {
   "cell_type": "code",
   "execution_count": 22,
   "metadata": {},
   "outputs": [
    {
     "data": {
      "text/html": [
       "<div>\n",
       "<style scoped>\n",
       "    .dataframe tbody tr th:only-of-type {\n",
       "        vertical-align: middle;\n",
       "    }\n",
       "\n",
       "    .dataframe tbody tr th {\n",
       "        vertical-align: top;\n",
       "    }\n",
       "\n",
       "    .dataframe thead th {\n",
       "        text-align: right;\n",
       "    }\n",
       "</style>\n",
       "<table border=\"1\" class=\"dataframe\">\n",
       "  <thead>\n",
       "    <tr style=\"text-align: right;\">\n",
       "      <th></th>\n",
       "      <th>user_id</th>\n",
       "      <th>revenue</th>\n",
       "      <th>testgroup</th>\n",
       "    </tr>\n",
       "  </thead>\n",
       "  <tbody>\n",
       "    <tr>\n",
       "      <th>0</th>\n",
       "      <td>1</td>\n",
       "      <td>0</td>\n",
       "      <td>b</td>\n",
       "    </tr>\n",
       "    <tr>\n",
       "      <th>1</th>\n",
       "      <td>2</td>\n",
       "      <td>0</td>\n",
       "      <td>a</td>\n",
       "    </tr>\n",
       "    <tr>\n",
       "      <th>2</th>\n",
       "      <td>3</td>\n",
       "      <td>0</td>\n",
       "      <td>a</td>\n",
       "    </tr>\n",
       "    <tr>\n",
       "      <th>3</th>\n",
       "      <td>4</td>\n",
       "      <td>0</td>\n",
       "      <td>b</td>\n",
       "    </tr>\n",
       "    <tr>\n",
       "      <th>4</th>\n",
       "      <td>5</td>\n",
       "      <td>0</td>\n",
       "      <td>b</td>\n",
       "    </tr>\n",
       "  </tbody>\n",
       "</table>\n",
       "</div>"
      ],
      "text/plain": [
       "   user_id  revenue testgroup\n",
       "0        1        0         b\n",
       "1        2        0         a\n",
       "2        3        0         a\n",
       "3        4        0         b\n",
       "4        5        0         b"
      ]
     },
     "execution_count": 22,
     "metadata": {},
     "output_type": "execute_result"
    }
   ],
   "source": [
    "df.head()"
   ]
  },
  {
   "cell_type": "code",
   "execution_count": 23,
   "metadata": {},
   "outputs": [
    {
     "data": {
      "text/plain": [
       "user_id       int64\n",
       "revenue       int64\n",
       "testgroup    object\n",
       "dtype: object"
      ]
     },
     "execution_count": 23,
     "metadata": {},
     "output_type": "execute_result"
    }
   ],
   "source": [
    "# Посмотрим на типы данных:\n",
    "df.dtypes\n",
    "\n",
    "# Тип данных менять не нужно"
   ]
  },
  {
   "cell_type": "code",
   "execution_count": 24,
   "metadata": {},
   "outputs": [
    {
     "name": "stdout",
     "output_type": "stream",
     "text": [
      "Пропущенных значений в таблице:\n",
      "user_id      0\n",
      "revenue      0\n",
      "testgroup    0\n",
      "dtype: int64\n",
      "\n",
      "Повтояряющихся строк в таблице: 0\n",
      "\n",
      "Общее количество строк и столбцов в таблице:\n",
      "(404770, 3)\n",
      "\n",
      "Число уникальных значений в таблице:\n",
      "user_id      404770\n",
      "revenue        1477\n",
      "testgroup         2\n",
      "dtype: int64\n",
      "\n",
      "Пользователи поделены на уникальные группы:\n",
      "['b' 'a']\n",
      "\n"
     ]
    }
   ],
   "source": [
    "# Посчитаем число пропущенных значений:\n",
    "print('Пропущенных значений в таблице:\\n{}\\n'.format(df.isna().sum()))\n",
    "\n",
    "# Посчитаем число повторяющихся строк:\n",
    "print('Повтояряющихся строк в таблице: {}\\n'.format(df.duplicated().sum()))\n",
    "\n",
    "# Посчитаем общее количество строк и столбцов в таблице:\n",
    "print('Общее количество строк и столбцов в таблице:\\n{}\\n'.format(df.shape))\n",
    "\n",
    "# Посчитаем число уникальных значений для каждой колонки:\n",
    "print('Число уникальных значений в таблице:\\n{}\\n'.format(df.nunique()))\n",
    "\n",
    "# Пользователи поделены на уникальные группы\n",
    "print('Пользователи поделены на уникальные группы:\\n{}\\n'.format(df.testgroup.unique()))"
   ]
  },
  {
   "cell_type": "markdown",
   "metadata": {},
   "source": [
    "*Следовательно, пропущенных значений нет, повторяющихся строк нет. А общее число строк в таблице равно 404770, и оно совпадает с числом уникальных user_id, т.е. у нас дана таблица в которой для каждого уникального пользователя указан параметр revenue, т.е. выручка, и указан номер группы а (контрольная) или b (тестовая).* "
   ]
  },
  {
   "cell_type": "code",
   "execution_count": 25,
   "metadata": {},
   "outputs": [
    {
     "data": {
      "text/html": [
       "<div>\n",
       "<style scoped>\n",
       "    .dataframe tbody tr th:only-of-type {\n",
       "        vertical-align: middle;\n",
       "    }\n",
       "\n",
       "    .dataframe tbody tr th {\n",
       "        vertical-align: top;\n",
       "    }\n",
       "\n",
       "    .dataframe thead th {\n",
       "        text-align: right;\n",
       "    }\n",
       "</style>\n",
       "<table border=\"1\" class=\"dataframe\">\n",
       "  <thead>\n",
       "    <tr style=\"text-align: right;\">\n",
       "      <th></th>\n",
       "      <th>testgroup</th>\n",
       "      <th>user_id</th>\n",
       "    </tr>\n",
       "  </thead>\n",
       "  <tbody>\n",
       "    <tr>\n",
       "      <th>0</th>\n",
       "      <td>a</td>\n",
       "      <td>202103</td>\n",
       "    </tr>\n",
       "    <tr>\n",
       "      <th>1</th>\n",
       "      <td>b</td>\n",
       "      <td>202667</td>\n",
       "    </tr>\n",
       "  </tbody>\n",
       "</table>\n",
       "</div>"
      ],
      "text/plain": [
       "  testgroup  user_id\n",
       "0         a   202103\n",
       "1         b   202667"
      ]
     },
     "execution_count": 25,
     "metadata": {},
     "output_type": "execute_result"
    }
   ],
   "source": [
    "# Посмотрим, сколько уникальных пользователей в каждой из групп:\n",
    "df.groupby('testgroup', as_index = False)[['user_id']].nunique()"
   ]
  },
  {
   "cell_type": "markdown",
   "metadata": {},
   "source": [
    "* **В группе а (контрольной) всего 202103 пользователей**\n",
    "* **В группе b (тестовой) всего 202667 пользователей**  \n",
    "*Т.е. в двух группах пользователей примерно одинаковое число.* "
   ]
  },
  {
   "cell_type": "code",
   "execution_count": 26,
   "metadata": {},
   "outputs": [
    {
     "data": {
      "text/html": [
       "<div>\n",
       "<style scoped>\n",
       "    .dataframe tbody tr th:only-of-type {\n",
       "        vertical-align: middle;\n",
       "    }\n",
       "\n",
       "    .dataframe tbody tr th {\n",
       "        vertical-align: top;\n",
       "    }\n",
       "\n",
       "    .dataframe thead th {\n",
       "        text-align: right;\n",
       "    }\n",
       "</style>\n",
       "<table border=\"1\" class=\"dataframe\">\n",
       "  <thead>\n",
       "    <tr style=\"text-align: right;\">\n",
       "      <th></th>\n",
       "      <th>testgroup</th>\n",
       "      <th>user_id</th>\n",
       "    </tr>\n",
       "  </thead>\n",
       "  <tbody>\n",
       "    <tr>\n",
       "      <th>0</th>\n",
       "      <td>a</td>\n",
       "      <td>1928</td>\n",
       "    </tr>\n",
       "    <tr>\n",
       "      <th>1</th>\n",
       "      <td>b</td>\n",
       "      <td>1805</td>\n",
       "    </tr>\n",
       "  </tbody>\n",
       "</table>\n",
       "</div>"
      ],
      "text/plain": [
       "  testgroup  user_id\n",
       "0         a     1928\n",
       "1         b     1805"
      ]
     },
     "execution_count": 26,
     "metadata": {},
     "output_type": "execute_result"
    }
   ],
   "source": [
    "# Посчитаем число платящих пользователей в двух группах:\n",
    "df.query(\"revenue > 0\").groupby('testgroup', as_index = False)[['user_id']].nunique()"
   ]
  },
  {
   "cell_type": "markdown",
   "metadata": {},
   "source": [
    "* **В группе а (контрольной) 1928 платящих пользователей**\n",
    "* **В группе b (тестовой) 1805 платящих пользователей**  \n",
    "*Т.е. в двух группах примерно одинаковое число платящих пользователей, но платящих пользователей значительно меньше, чем неплатящих.* "
   ]
  },
  {
   "cell_type": "markdown",
   "metadata": {},
   "source": [
    "## Выведем описательные статистики каждой группы пользователей, и построим распределение выручки."
   ]
  },
  {
   "cell_type": "code",
   "execution_count": 27,
   "metadata": {},
   "outputs": [],
   "source": [
    "# разделяем всех пользователей на a и b\n",
    "groub_all_a = df.query('testgroup == \"a\" ')\n",
    "groub_all_b = df.query('testgroup == \"b\" ')"
   ]
  },
  {
   "cell_type": "code",
   "execution_count": 28,
   "metadata": {},
   "outputs": [],
   "source": [
    "# разделяем клиентов (платящих пользователей) на группы a и b:\n",
    "groub_pay_a = df.query('testgroup == \"a\" & revenue > 0')\n",
    "groub_pay_b = df.query('testgroup == \"b\" & revenue > 0')"
   ]
  },
  {
   "cell_type": "markdown",
   "metadata": {},
   "source": [
    "Сравним пользователей двух групп:"
   ]
  },
  {
   "cell_type": "code",
   "execution_count": 29,
   "metadata": {},
   "outputs": [
    {
     "data": {
      "text/html": [
       "<div>\n",
       "<style scoped>\n",
       "    .dataframe tbody tr th:only-of-type {\n",
       "        vertical-align: middle;\n",
       "    }\n",
       "\n",
       "    .dataframe tbody tr th {\n",
       "        vertical-align: top;\n",
       "    }\n",
       "\n",
       "    .dataframe thead th {\n",
       "        text-align: right;\n",
       "    }\n",
       "</style>\n",
       "<table border=\"1\" class=\"dataframe\">\n",
       "  <thead>\n",
       "    <tr style=\"text-align: right;\">\n",
       "      <th></th>\n",
       "      <th>user_id</th>\n",
       "      <th>revenue</th>\n",
       "    </tr>\n",
       "  </thead>\n",
       "  <tbody>\n",
       "    <tr>\n",
       "      <th>count</th>\n",
       "      <td>202103.000000</td>\n",
       "      <td>202103.000000</td>\n",
       "    </tr>\n",
       "    <tr>\n",
       "      <th>mean</th>\n",
       "      <td>202555.909843</td>\n",
       "      <td>25.413720</td>\n",
       "    </tr>\n",
       "    <tr>\n",
       "      <th>std</th>\n",
       "      <td>116802.329266</td>\n",
       "      <td>920.768137</td>\n",
       "    </tr>\n",
       "    <tr>\n",
       "      <th>min</th>\n",
       "      <td>2.000000</td>\n",
       "      <td>0.000000</td>\n",
       "    </tr>\n",
       "    <tr>\n",
       "      <th>25%</th>\n",
       "      <td>101502.500000</td>\n",
       "      <td>0.000000</td>\n",
       "    </tr>\n",
       "    <tr>\n",
       "      <th>50%</th>\n",
       "      <td>202988.000000</td>\n",
       "      <td>0.000000</td>\n",
       "    </tr>\n",
       "    <tr>\n",
       "      <th>75%</th>\n",
       "      <td>303559.000000</td>\n",
       "      <td>0.000000</td>\n",
       "    </tr>\n",
       "    <tr>\n",
       "      <th>max</th>\n",
       "      <td>404769.000000</td>\n",
       "      <td>37433.000000</td>\n",
       "    </tr>\n",
       "  </tbody>\n",
       "</table>\n",
       "</div>"
      ],
      "text/plain": [
       "             user_id        revenue\n",
       "count  202103.000000  202103.000000\n",
       "mean   202555.909843      25.413720\n",
       "std    116802.329266     920.768137\n",
       "min         2.000000       0.000000\n",
       "25%    101502.500000       0.000000\n",
       "50%    202988.000000       0.000000\n",
       "75%    303559.000000       0.000000\n",
       "max    404769.000000   37433.000000"
      ]
     },
     "execution_count": 29,
     "metadata": {},
     "output_type": "execute_result"
    }
   ],
   "source": [
    "# выведем описательные статистики всех пользователей группы \"a\":\n",
    "groub_all_a.describe()"
   ]
  },
  {
   "cell_type": "code",
   "execution_count": 30,
   "metadata": {},
   "outputs": [
    {
     "data": {
      "text/html": [
       "<div>\n",
       "<style scoped>\n",
       "    .dataframe tbody tr th:only-of-type {\n",
       "        vertical-align: middle;\n",
       "    }\n",
       "\n",
       "    .dataframe tbody tr th {\n",
       "        vertical-align: top;\n",
       "    }\n",
       "\n",
       "    .dataframe thead th {\n",
       "        text-align: right;\n",
       "    }\n",
       "</style>\n",
       "<table border=\"1\" class=\"dataframe\">\n",
       "  <thead>\n",
       "    <tr style=\"text-align: right;\">\n",
       "      <th></th>\n",
       "      <th>user_id</th>\n",
       "      <th>revenue</th>\n",
       "    </tr>\n",
       "  </thead>\n",
       "  <tbody>\n",
       "    <tr>\n",
       "      <th>count</th>\n",
       "      <td>202667.000000</td>\n",
       "      <td>202667.000000</td>\n",
       "    </tr>\n",
       "    <tr>\n",
       "      <th>mean</th>\n",
       "      <td>202215.564389</td>\n",
       "      <td>26.751287</td>\n",
       "    </tr>\n",
       "    <tr>\n",
       "      <th>std</th>\n",
       "      <td>116891.926690</td>\n",
       "      <td>287.324162</td>\n",
       "    </tr>\n",
       "    <tr>\n",
       "      <th>min</th>\n",
       "      <td>1.000000</td>\n",
       "      <td>0.000000</td>\n",
       "    </tr>\n",
       "    <tr>\n",
       "      <th>25%</th>\n",
       "      <td>100855.500000</td>\n",
       "      <td>0.000000</td>\n",
       "    </tr>\n",
       "    <tr>\n",
       "      <th>50%</th>\n",
       "      <td>201821.000000</td>\n",
       "      <td>0.000000</td>\n",
       "    </tr>\n",
       "    <tr>\n",
       "      <th>75%</th>\n",
       "      <td>303602.500000</td>\n",
       "      <td>0.000000</td>\n",
       "    </tr>\n",
       "    <tr>\n",
       "      <th>max</th>\n",
       "      <td>404770.000000</td>\n",
       "      <td>4000.000000</td>\n",
       "    </tr>\n",
       "  </tbody>\n",
       "</table>\n",
       "</div>"
      ],
      "text/plain": [
       "             user_id        revenue\n",
       "count  202667.000000  202667.000000\n",
       "mean   202215.564389      26.751287\n",
       "std    116891.926690     287.324162\n",
       "min         1.000000       0.000000\n",
       "25%    100855.500000       0.000000\n",
       "50%    201821.000000       0.000000\n",
       "75%    303602.500000       0.000000\n",
       "max    404770.000000    4000.000000"
      ]
     },
     "execution_count": 30,
     "metadata": {},
     "output_type": "execute_result"
    }
   ],
   "source": [
    "# выведем описательные статистики всех пользователей группы \"b\":\n",
    "groub_all_b.describe()"
   ]
  },
  {
   "cell_type": "markdown",
   "metadata": {},
   "source": [
    "Сравнивая описательные статистики всех пользователей разных групп a и b, можно заметить, что в группах а и b средние значения выручки похожи, а вот стандартное отклонение и максимальное значение выручки сильно различаются."
   ]
  },
  {
   "cell_type": "code",
   "execution_count": 31,
   "metadata": {},
   "outputs": [
    {
     "data": {
      "image/png": "[encoded data removed]",
      "text/plain": [
       "<Figure size 640x480 with 1 Axes>"
      ]
     },
     "metadata": {},
     "output_type": "display_data"
    }
   ],
   "source": [
    "# График boxplot позволяет нарисовать сравнение распределения двух групп.\n",
    "plt.title('Распределение выручки для всех пользователей групп a и b')\n",
    "ax = sns.boxplot(data = df, x = 'testgroup', y = 'revenue')\n",
    "\n",
    "# в самом ящике лежит примерно 50% всех наблюдений\n",
    "# усы показывают крайние точки распределения\n",
    "# отдельно стоящие точки - выбросы в данных"
   ]
  },
  {
   "cell_type": "code",
   "execution_count": 32,
   "metadata": {
    "scrolled": false
   },
   "outputs": [
    {
     "data": {
      "text/plain": [
       "<AxesSubplot:title={'center':'Распределение выручки для платящих пользователей двух групп'}, xlabel='revenue', ylabel='Count'>"
      ]
     },
     "execution_count": 32,
     "metadata": {},
     "output_type": "execute_result"
    },
    {
     "data": {
      "image/png": "[encoded data removed]",
      "text/plain": [
       "<Figure size 1200x500 with 1 Axes>"
      ]
     },
     "metadata": {},
     "output_type": "display_data"
    }
   ],
   "source": [
    "# Построим распределение выручки пользователей для двух групп:\n",
    "plt.figure(figsize=(12, 5))\n",
    "plt.title('Распределение выручки для платящих пользователей двух групп')\n",
    "sns.histplot(data = df, x='revenue', hue='testgroup')"
   ]
  },
  {
   "cell_type": "markdown",
   "metadata": {},
   "source": [
    "Сравнивая распределение выручки всех пользователей для двух групп на графике boxplot и на гистограмме, видно, что в группе а (контрольной) имеются большие выбросы."
   ]
  },
  {
   "cell_type": "markdown",
   "metadata": {},
   "source": [
    "**Сравним клиентов (платящих пользователей) двух групп:**"
   ]
  },
  {
   "cell_type": "code",
   "execution_count": 33,
   "metadata": {},
   "outputs": [
    {
     "data": {
      "text/html": [
       "<div>\n",
       "<style scoped>\n",
       "    .dataframe tbody tr th:only-of-type {\n",
       "        vertical-align: middle;\n",
       "    }\n",
       "\n",
       "    .dataframe tbody tr th {\n",
       "        vertical-align: top;\n",
       "    }\n",
       "\n",
       "    .dataframe thead th {\n",
       "        text-align: right;\n",
       "    }\n",
       "</style>\n",
       "<table border=\"1\" class=\"dataframe\">\n",
       "  <thead>\n",
       "    <tr style=\"text-align: right;\">\n",
       "      <th></th>\n",
       "      <th>user_id</th>\n",
       "      <th>revenue</th>\n",
       "    </tr>\n",
       "  </thead>\n",
       "  <tbody>\n",
       "    <tr>\n",
       "      <th>count</th>\n",
       "      <td>1928.000000</td>\n",
       "      <td>1928.000000</td>\n",
       "    </tr>\n",
       "    <tr>\n",
       "      <th>mean</th>\n",
       "      <td>200152.677905</td>\n",
       "      <td>2663.998444</td>\n",
       "    </tr>\n",
       "    <tr>\n",
       "      <th>std</th>\n",
       "      <td>116596.504905</td>\n",
       "      <td>9049.039763</td>\n",
       "    </tr>\n",
       "    <tr>\n",
       "      <th>min</th>\n",
       "      <td>73.000000</td>\n",
       "      <td>200.000000</td>\n",
       "    </tr>\n",
       "    <tr>\n",
       "      <th>25%</th>\n",
       "      <td>99323.000000</td>\n",
       "      <td>257.000000</td>\n",
       "    </tr>\n",
       "    <tr>\n",
       "      <th>50%</th>\n",
       "      <td>199854.500000</td>\n",
       "      <td>311.000000</td>\n",
       "    </tr>\n",
       "    <tr>\n",
       "      <th>75%</th>\n",
       "      <td>299664.250000</td>\n",
       "      <td>361.000000</td>\n",
       "    </tr>\n",
       "    <tr>\n",
       "      <th>max</th>\n",
       "      <td>404768.000000</td>\n",
       "      <td>37433.000000</td>\n",
       "    </tr>\n",
       "  </tbody>\n",
       "</table>\n",
       "</div>"
      ],
      "text/plain": [
       "             user_id       revenue\n",
       "count    1928.000000   1928.000000\n",
       "mean   200152.677905   2663.998444\n",
       "std    116596.504905   9049.039763\n",
       "min        73.000000    200.000000\n",
       "25%     99323.000000    257.000000\n",
       "50%    199854.500000    311.000000\n",
       "75%    299664.250000    361.000000\n",
       "max    404768.000000  37433.000000"
      ]
     },
     "execution_count": 33,
     "metadata": {},
     "output_type": "execute_result"
    }
   ],
   "source": [
    "# выведем описательные статистики клиентов (платящих пользователей) группы \"a\":\n",
    "groub_pay_a.describe()"
   ]
  },
  {
   "cell_type": "code",
   "execution_count": 34,
   "metadata": {
    "scrolled": true
   },
   "outputs": [
    {
     "data": {
      "text/html": [
       "<div>\n",
       "<style scoped>\n",
       "    .dataframe tbody tr th:only-of-type {\n",
       "        vertical-align: middle;\n",
       "    }\n",
       "\n",
       "    .dataframe tbody tr th {\n",
       "        vertical-align: top;\n",
       "    }\n",
       "\n",
       "    .dataframe thead th {\n",
       "        text-align: right;\n",
       "    }\n",
       "</style>\n",
       "<table border=\"1\" class=\"dataframe\">\n",
       "  <thead>\n",
       "    <tr style=\"text-align: right;\">\n",
       "      <th></th>\n",
       "      <th>user_id</th>\n",
       "      <th>revenue</th>\n",
       "    </tr>\n",
       "  </thead>\n",
       "  <tbody>\n",
       "    <tr>\n",
       "      <th>count</th>\n",
       "      <td>1805.000000</td>\n",
       "      <td>1805.000000</td>\n",
       "    </tr>\n",
       "    <tr>\n",
       "      <th>mean</th>\n",
       "      <td>205834.548476</td>\n",
       "      <td>3003.658172</td>\n",
       "    </tr>\n",
       "    <tr>\n",
       "      <th>std</th>\n",
       "      <td>116400.045485</td>\n",
       "      <td>572.619709</td>\n",
       "    </tr>\n",
       "    <tr>\n",
       "      <th>min</th>\n",
       "      <td>161.000000</td>\n",
       "      <td>2000.000000</td>\n",
       "    </tr>\n",
       "    <tr>\n",
       "      <th>25%</th>\n",
       "      <td>106815.000000</td>\n",
       "      <td>2513.000000</td>\n",
       "    </tr>\n",
       "    <tr>\n",
       "      <th>50%</th>\n",
       "      <td>206651.000000</td>\n",
       "      <td>3022.000000</td>\n",
       "    </tr>\n",
       "    <tr>\n",
       "      <th>75%</th>\n",
       "      <td>304907.000000</td>\n",
       "      <td>3478.000000</td>\n",
       "    </tr>\n",
       "    <tr>\n",
       "      <th>max</th>\n",
       "      <td>404526.000000</td>\n",
       "      <td>4000.000000</td>\n",
       "    </tr>\n",
       "  </tbody>\n",
       "</table>\n",
       "</div>"
      ],
      "text/plain": [
       "             user_id      revenue\n",
       "count    1805.000000  1805.000000\n",
       "mean   205834.548476  3003.658172\n",
       "std    116400.045485   572.619709\n",
       "min       161.000000  2000.000000\n",
       "25%    106815.000000  2513.000000\n",
       "50%    206651.000000  3022.000000\n",
       "75%    304907.000000  3478.000000\n",
       "max    404526.000000  4000.000000"
      ]
     },
     "execution_count": 34,
     "metadata": {},
     "output_type": "execute_result"
    }
   ],
   "source": [
    "# выведем описательные статистики клиентов (платящих пользователей) группы \"b\":\n",
    "groub_pay_b.describe()"
   ]
  },
  {
   "cell_type": "markdown",
   "metadata": {},
   "source": [
    "* Средний доход на платящего пользователя в контрольной группе a немного меньше, чем в тестовой группе b\n",
    "* Минимальное и максимальное значения выручки для платящих пользователей в двух группах сильно различаются.\n",
    "* Стандартное отклонение выручки для платящих пользователей в двух группах сильно различаются.  \n",
    "*Разберемся с этим более подробно, и посмотрим на форму распределения выручки для этих групп пользователей.*"
   ]
  },
  {
   "cell_type": "code",
   "execution_count": 35,
   "metadata": {},
   "outputs": [
    {
     "data": {
      "image/png": "[encoded data removed]",
      "text/plain": [
       "<Figure size 640x480 with 1 Axes>"
      ]
     },
     "metadata": {},
     "output_type": "display_data"
    }
   ],
   "source": [
    "# График boxplot позволяет нарисовать сравнение распределения двух переменных\n",
    "plt.title('Распределение выручки для платящих пользователей групп a и b')\n",
    "ax = sns.boxplot(data = df.query(\"revenue > 0\"), x = 'testgroup', y = 'revenue')"
   ]
  },
  {
   "cell_type": "code",
   "execution_count": 36,
   "metadata": {},
   "outputs": [
    {
     "data": {
      "text/plain": [
       "<AxesSubplot:title={'center':'Распределение выручки для платящих пользователей двух групп'}, xlabel='revenue', ylabel='Count'>"
      ]
     },
     "execution_count": 36,
     "metadata": {},
     "output_type": "execute_result"
    },
    {
     "data": {
      "image/png": "[encoded data removed]",
      "text/plain": [
       "<Figure size 1200x500 with 1 Axes>"
      ]
     },
     "metadata": {},
     "output_type": "display_data"
    }
   ],
   "source": [
    "# Построим распределение выручки клиентов (платящих пользователей) для двух групп:\n",
    "plt.figure(figsize=(12, 5))\n",
    "plt.title('Распределение выручки для платящих пользователей двух групп')\n",
    "sns.histplot(data = df.query(\"revenue > 0\"), x='revenue', hue='testgroup')"
   ]
  },
  {
   "cell_type": "markdown",
   "metadata": {},
   "source": [
    "Сравнивая распределение выручки платящих пользователей для двух групп на графике boxplot и на гистограмме, видно, что распределения выручки для двух групп кардинально различаются между собой (как по форме, так и по значениям). В группе а (контрольной) имеются большие выбросы."
   ]
  },
  {
   "cell_type": "code",
   "execution_count": 37,
   "metadata": {
    "scrolled": false
   },
   "outputs": [
    {
     "data": {
      "text/plain": [
       "<AxesSubplot:title={'center':'Распределение выручки для платящих пользователей тестовой группы b'}, xlabel='revenue', ylabel='Count'>"
      ]
     },
     "execution_count": 37,
     "metadata": {},
     "output_type": "execute_result"
    },
    {
     "data": {
      "image/png": "[encoded data removed]",
      "text/plain": [
       "<Figure size 1200x500 with 1 Axes>"
      ]
     },
     "metadata": {},
     "output_type": "display_data"
    }
   ],
   "source": [
    "# Построим распределение выручки клиентов (платящих пользователей) для группы b:\n",
    "plt.figure(figsize=(12, 5))\n",
    "plt.title('Распределение выручки для платящих пользователей тестовой группы b')\n",
    "sns.histplot(groub_pay_b.revenue)"
   ]
  },
  {
   "cell_type": "code",
   "execution_count": 38,
   "metadata": {
    "scrolled": false
   },
   "outputs": [
    {
     "data": {
      "text/plain": [
       "<AxesSubplot:title={'center':'Распределение выручки для платящих пользователей контрольной группы a'}, xlabel='revenue', ylabel='Count'>"
      ]
     },
     "execution_count": 38,
     "metadata": {},
     "output_type": "execute_result"
    },
    {
     "data": {
      "image/png": "[encoded data removed]",
      "text/plain": [
       "<Figure size 1200x500 with 1 Axes>"
      ]
     },
     "metadata": {},
     "output_type": "display_data"
    }
   ],
   "source": [
    "# Построим распределение выручки клиентов (платящих пользователей) для группы a:\n",
    "plt.figure(figsize=(12, 5))\n",
    "plt.title('Распределение выручки для платящих пользователей контрольной группы a')\n",
    "sns.histplot(groub_pay_a.revenue)"
   ]
  },
  {
   "cell_type": "markdown",
   "metadata": {},
   "source": [
    "Форма распределения выручки для платящих пользователей групп а и b очень сильно различается.  \n",
    "* В тестовой группе b распределение по форме похоже на равномерное.\n",
    "* В контрольной группе a распределение с двумя модами, оно несимметричное, не является нормальным, не является симметричным. Выбросы в данных визуально ограничены числом 3500."
   ]
  },
  {
   "cell_type": "markdown",
   "metadata": {},
   "source": [
    "**Рассмотрим более подробно выбросы платящих пользователей группы а:**"
   ]
  },
  {
   "cell_type": "code",
   "execution_count": 39,
   "metadata": {},
   "outputs": [
    {
     "data": {
      "text/plain": [
       "<AxesSubplot:title={'center':'Распределение выручки (revenue < 3500) для платящих пользователей контрольной группы a'}, xlabel='revenue', ylabel='Count'>"
      ]
     },
     "execution_count": 39,
     "metadata": {},
     "output_type": "execute_result"
    },
    {
     "data": {
      "image/png": "[encoded data removed]",
      "text/plain": [
       "<Figure size 1200x500 with 1 Axes>"
      ]
     },
     "metadata": {},
     "output_type": "display_data"
    }
   ],
   "source": [
    "# Построим распределение выручки клиентов (платящих пользователей) для группы a (выручка < 3500):\n",
    "plt.figure(figsize=(12, 5))\n",
    "plt.title('Распределение выручки (revenue < 3500) для платящих пользователей контрольной группы a')\n",
    "sns.histplot(groub_pay_a.query(\"revenue < 3500\").revenue)"
   ]
  },
  {
   "cell_type": "code",
   "execution_count": 40,
   "metadata": {
    "scrolled": false
   },
   "outputs": [
    {
     "data": {
      "text/plain": [
       "<AxesSubplot:title={'center':'Распределение выручки (revenue > 3500) для платящих пользователей контрольной группы a'}, xlabel='revenue', ylabel='Count'>"
      ]
     },
     "execution_count": 40,
     "metadata": {},
     "output_type": "execute_result"
    },
    {
     "data": {
      "image/png": "[encoded data removed]",
      "text/plain": [
       "<Figure size 1200x500 with 1 Axes>"
      ]
     },
     "metadata": {},
     "output_type": "display_data"
    }
   ],
   "source": [
    "# Построим распределение выручки клиентов (платящих пользователей) для группы a (выручка > 3500):\n",
    "plt.figure(figsize=(12, 5))\n",
    "plt.title('Распределение выручки (revenue > 3500) для платящих пользователей контрольной группы a')\n",
    "sns.histplot(groub_pay_a.query(\"revenue > 3500\").revenue)"
   ]
  },
  {
   "cell_type": "markdown",
   "metadata": {},
   "source": [
    "**По графиками для платящих пользователей можно заметить:**\n",
    "* В **тестовой группе b** выбросов нет, пользователи этой группы приносят прибыли от 2000 у.е. до 4000 у.е. Форма распределения похожа на равномерное.\n",
    "* В **контрольной группе а** для разных пользователей очень большой разброс по выручке:\n",
    "    * Основная часть пользователей приносят прибыли от 200 у.е. до 400 у.е. Форма распределения выручки для них похожа на равномерное.\n",
    "    * В контрольной группе а есть особенные пользователи (\"выбросы\") у которых сумма чека составляет более 35000 условных единиц. Распределение этих пользователей по форме похоже на экспоненциальное.   \n",
    "\n",
    "Таким образом, если сравнивать два распределения контрольной группы а (большая часть пользователей и \"выбросы\"), то они имеют разную форму. Выбросы довольно значительно меняют общую картину распределения группы а.\n",
    "Ниже посчитаем, какой процент пользователей группы а составляют выбросы, и какой процент дохода они приносят компании, и оценим, насколько сильно их наличие влияет на наши данные. "
   ]
  },
  {
   "cell_type": "code",
   "execution_count": 41,
   "metadata": {},
   "outputs": [
    {
     "name": "stdout",
     "output_type": "stream",
     "text": [
      "Число выбросов для платящих пользователей группы а: 123\n",
      "\n",
      "Число строк в таблице платящих пользователей группы а: 1928\n",
      "\n",
      "Выбросы составляют 6.0 % от всех платящих пользователей группы а.\n"
     ]
    }
   ],
   "source": [
    "# Посчитаем число выбросов для платящих пользователей группы а:\n",
    "outliers = groub_pay_a.query(\"revenue > 3500\").revenue.count()\n",
    "print('Число выбросов для платящих пользователей группы а: {}\\n'.format(outliers))\n",
    "\n",
    "# Посчитаем общее число строк в таблице платящих пользователей группы а:\n",
    "all_values = groub_pay_a.revenue.count()\n",
    "print('Число строк в таблице платящих пользователей группы а: {}\\n'.format(all_values))\n",
    "\n",
    "# Посчитаем, какую долю от всех платящих пользователей занимают выбросы:\n",
    "outliers_ratio = outliers/all_values * 100\n",
    "print('Выбросы составляют {} % от всех платящих пользователей группы а.'.format(outliers_ratio.round(0)))"
   ]
  },
  {
   "cell_type": "code",
   "execution_count": 42,
   "metadata": {},
   "outputs": [
    {
     "name": "stdout",
     "output_type": "stream",
     "text": [
      "Доход от выбросов для платящих пользователей группы а: 4590252\n",
      "\n",
      "Общий доход от всех платящих пользователей группы а: 5136189\n",
      "\n",
      "Доход от выбросов составляет 89.0 % от дохода всех платящих пользователей группы а.\n"
     ]
    }
   ],
   "source": [
    "# Посчитаем доход от выбросов для платящих пользователей группы а:\n",
    "outliers_rev = groub_pay_a.query(\"revenue > 3500\").revenue.sum()\n",
    "print('Доход от выбросов для платящих пользователей группы а: {}\\n'.format(outliers_rev))\n",
    "\n",
    "# Посчитаем общий доход от всех платящих пользователей группы а:\n",
    "all_values_rev = groub_pay_a.revenue.sum()\n",
    "print('Общий доход от всех платящих пользователей группы а: {}\\n'.format(all_values_rev))\n",
    "\n",
    "# Посчитаем, какой процент дохода от платящих пользователй занимают выбросы:\n",
    "outliers_ratio_rev = outliers_rev/all_values_rev * 100\n",
    "print('Доход от выбросов составляет {} % от дохода всех платящих пользователей группы а.'.format(outliers_ratio_rev.round(0)))"
   ]
  },
  {
   "cell_type": "markdown",
   "metadata": {},
   "source": [
    "**Таким образом, несмотря на то, что выбросы составляют только 6% от всех клиентов группы а, они приносят около 89% от общего дохода группы а, считать их случайными неверно.**"
   ]
  },
  {
   "cell_type": "markdown",
   "metadata": {},
   "source": [
    "* ***Такое большое отличие в форме распределения выручки групп а и b ставит под сомнение корректность проведенного эксперимента и правильность работы системы сплитования, поскольку сегменты пользователй в группе a и группе b значительно отличаются друг от друга. Рекомендуется проверить систему сплитования на адекватность с помощью А/А-тестирования.***\n",
    "\n",
    "* Однако, поскольку форма распределения выручки основной части пользователей группы а (равномерное) похожа на форму распределения группы b (тоже равномерное), то можно предположить, что разный характер распределения выручки групп а и b связан с акционным предложением, и, возможно, не было ошибок в работе системы сплитования, и она правильно разделила пользователей на сегменты. "
   ]
  },
  {
   "cell_type": "markdown",
   "metadata": {},
   "source": [
    "## Выбор метрики."
   ]
  },
  {
   "cell_type": "markdown",
   "metadata": {},
   "source": [
    "*Команда приложения разработала наборы акционных предложений. \n",
    "Нам предоставлены для разных пользователей данные о платежах, количестве платящих и неплатящих пользователей. \n",
    "Поэтому мы можем исследовать следующие метрики:*   \n",
    "1. ***ARPU*** - средний доход с привлеченного пользователя. ARPU = Доход/Число_пользователей (это целевая метрика - показатель доходов).   \n",
    "**По сути ARPU - это средняя выручка на привлеченного пользователя.** \n",
    "2. ***ARPPU*** - средний доход с привлеченного клиента, т.е. платящего пользователя. ARPPU = Доход/Число_клиентов (это целевая метрика - показатель доходов). **По сути ARPPU - это средняя выручка на клиента.** \n",
    "3. ***Конверсия в покупку*** - число пользователей, которые сделали покупку к общему числу пользователей (целевая метрика, тоже напрямую влияет на доходы в компании).\n",
    "\n",
    "*Мы заинтересованы в том, чтобы для некоторой группы средняя выручка была больше, ARPU был больше, ARPPU тоже был выше, конверсия в покупку была больше, причем чтобы это увеличение было статистически значимо.* "
   ]
  },
  {
   "cell_type": "markdown",
   "metadata": {},
   "source": [
    "## Расчет выбранных метрик."
   ]
  },
  {
   "cell_type": "code",
   "execution_count": 43,
   "metadata": {},
   "outputs": [
    {
     "data": {
      "text/html": [
       "<div>\n",
       "<style scoped>\n",
       "    .dataframe tbody tr th:only-of-type {\n",
       "        vertical-align: middle;\n",
       "    }\n",
       "\n",
       "    .dataframe tbody tr th {\n",
       "        vertical-align: top;\n",
       "    }\n",
       "\n",
       "    .dataframe thead th {\n",
       "        text-align: right;\n",
       "    }\n",
       "</style>\n",
       "<table border=\"1\" class=\"dataframe\">\n",
       "  <thead>\n",
       "    <tr style=\"text-align: right;\">\n",
       "      <th></th>\n",
       "      <th>testgroup</th>\n",
       "      <th>all_revenue</th>\n",
       "      <th>numb_users</th>\n",
       "      <th>ARPU</th>\n",
       "    </tr>\n",
       "  </thead>\n",
       "  <tbody>\n",
       "    <tr>\n",
       "      <th>0</th>\n",
       "      <td>a</td>\n",
       "      <td>5136189</td>\n",
       "      <td>202103</td>\n",
       "      <td>25.413720</td>\n",
       "    </tr>\n",
       "    <tr>\n",
       "      <th>1</th>\n",
       "      <td>b</td>\n",
       "      <td>5421603</td>\n",
       "      <td>202667</td>\n",
       "      <td>26.751287</td>\n",
       "    </tr>\n",
       "  </tbody>\n",
       "</table>\n",
       "</div>"
      ],
      "text/plain": [
       "  testgroup  all_revenue  numb_users       ARPU\n",
       "0         a      5136189      202103  25.413720\n",
       "1         b      5421603      202667  26.751287"
      ]
     },
     "execution_count": 43,
     "metadata": {},
     "output_type": "execute_result"
    }
   ],
   "source": [
    "# ARPU:\n",
    "all_users = df.groupby('testgroup', as_index=False)\\\n",
    "    .agg({'revenue': 'sum', 'user_id': 'count'})\\\n",
    "    .rename(columns = {\"revenue\": \"all_revenue\", \"user_id\": 'numb_users'}) \n",
    "all_users[\"ARPU\"] =  all_users.all_revenue / all_users.numb_users\n",
    "all_users"
   ]
  },
  {
   "cell_type": "code",
   "execution_count": 44,
   "metadata": {},
   "outputs": [
    {
     "name": "stdout",
     "output_type": "stream",
     "text": [
      "ARPU в тестовой группе на 5% выше, чем ARPU в контрольной группе a.\n"
     ]
    }
   ],
   "source": [
    "# Посчитаем, на сколько процентов ARPU в тестовой группе больше, чем в контрольной:\n",
    "percent = round(all_users.query('testgroup == \"b\"').ARPU[1] * 100 /  all_users.query('testgroup == \"a\"').ARPU[0]) - 100\n",
    "print('ARPU в тестовой группе на {}% выше, чем ARPU в контрольной группе a.'.format(percent))"
   ]
  },
  {
   "cell_type": "code",
   "execution_count": 45,
   "metadata": {
    "scrolled": true
   },
   "outputs": [
    {
     "data": {
      "text/html": [
       "<div>\n",
       "<style scoped>\n",
       "    .dataframe tbody tr th:only-of-type {\n",
       "        vertical-align: middle;\n",
       "    }\n",
       "\n",
       "    .dataframe tbody tr th {\n",
       "        vertical-align: top;\n",
       "    }\n",
       "\n",
       "    .dataframe thead th {\n",
       "        text-align: right;\n",
       "    }\n",
       "</style>\n",
       "<table border=\"1\" class=\"dataframe\">\n",
       "  <thead>\n",
       "    <tr style=\"text-align: right;\">\n",
       "      <th></th>\n",
       "      <th>testgroup</th>\n",
       "      <th>all_revenue</th>\n",
       "      <th>numb_clients</th>\n",
       "      <th>ARPPU</th>\n",
       "    </tr>\n",
       "  </thead>\n",
       "  <tbody>\n",
       "    <tr>\n",
       "      <th>0</th>\n",
       "      <td>a</td>\n",
       "      <td>5136189</td>\n",
       "      <td>1928</td>\n",
       "      <td>2663.998444</td>\n",
       "    </tr>\n",
       "    <tr>\n",
       "      <th>1</th>\n",
       "      <td>b</td>\n",
       "      <td>5421603</td>\n",
       "      <td>1805</td>\n",
       "      <td>3003.658172</td>\n",
       "    </tr>\n",
       "  </tbody>\n",
       "</table>\n",
       "</div>"
      ],
      "text/plain": [
       "  testgroup  all_revenue  numb_clients        ARPPU\n",
       "0         a      5136189          1928  2663.998444\n",
       "1         b      5421603          1805  3003.658172"
      ]
     },
     "execution_count": 45,
     "metadata": {},
     "output_type": "execute_result"
    }
   ],
   "source": [
    "# ARPPU:\n",
    "pay_users = df.query(\"revenue > 0\").groupby('testgroup', as_index = False)\\\n",
    "    .agg({'revenue': 'sum', 'user_id': 'count'})\\\n",
    "    .rename(columns = {\"revenue\": \"all_revenue\", \"user_id\": 'numb_clients'}) \n",
    "pay_users[\"ARPPU\"] =  pay_users.all_revenue / pay_users.numb_clients\n",
    "pay_users"
   ]
  },
  {
   "cell_type": "code",
   "execution_count": 46,
   "metadata": {},
   "outputs": [
    {
     "data": {
      "text/html": [
       "<div>\n",
       "<style scoped>\n",
       "    .dataframe tbody tr th:only-of-type {\n",
       "        vertical-align: middle;\n",
       "    }\n",
       "\n",
       "    .dataframe tbody tr th {\n",
       "        vertical-align: top;\n",
       "    }\n",
       "\n",
       "    .dataframe thead th {\n",
       "        text-align: right;\n",
       "    }\n",
       "</style>\n",
       "<table border=\"1\" class=\"dataframe\">\n",
       "  <thead>\n",
       "    <tr style=\"text-align: right;\">\n",
       "      <th></th>\n",
       "      <th>testgroup</th>\n",
       "      <th>all_revenue</th>\n",
       "      <th>numb_users</th>\n",
       "      <th>ARPU</th>\n",
       "      <th>numb_clients</th>\n",
       "      <th>ARPPU</th>\n",
       "      <th>CR_percent</th>\n",
       "    </tr>\n",
       "  </thead>\n",
       "  <tbody>\n",
       "    <tr>\n",
       "      <th>0</th>\n",
       "      <td>a</td>\n",
       "      <td>5136189</td>\n",
       "      <td>202103</td>\n",
       "      <td>25.413720</td>\n",
       "      <td>1928</td>\n",
       "      <td>2663.998444</td>\n",
       "      <td>0.953969</td>\n",
       "    </tr>\n",
       "    <tr>\n",
       "      <th>1</th>\n",
       "      <td>b</td>\n",
       "      <td>5421603</td>\n",
       "      <td>202667</td>\n",
       "      <td>26.751287</td>\n",
       "      <td>1805</td>\n",
       "      <td>3003.658172</td>\n",
       "      <td>0.890624</td>\n",
       "    </tr>\n",
       "  </tbody>\n",
       "</table>\n",
       "</div>"
      ],
      "text/plain": [
       "  testgroup  all_revenue  numb_users       ARPU  numb_clients        ARPPU  \\\n",
       "0         a      5136189      202103  25.413720          1928  2663.998444   \n",
       "1         b      5421603      202667  26.751287          1805  3003.658172   \n",
       "\n",
       "   CR_percent  \n",
       "0    0.953969  \n",
       "1    0.890624  "
      ]
     },
     "execution_count": 46,
     "metadata": {},
     "output_type": "execute_result"
    }
   ],
   "source": [
    "# Конверсия в покупку (CR - convension rate).\n",
    "# Объединим 2 таблицы, и посчитаем конверсию в покупку:\n",
    "pay_users = pay_users[['testgroup', 'numb_clients', 'ARPPU']]\n",
    "df_metrics = all_users.merge(pay_users, on = \"testgroup\", how = \"inner\")\n",
    "df_metrics['CR_percent'] = df_metrics.numb_clients / df_metrics.numb_users * 100\n",
    "df_metrics"
   ]
  },
  {
   "cell_type": "markdown",
   "metadata": {},
   "source": [
    "**Выводы из этой таблицы:**\n",
    "* **ARPU** пользователей группы **b выше**, чем **ARPU** пользователей группы **a**.\n",
    "* **ARPPU** пользователей группы **b выше**, чем **ARPPU** пользователей группы **a**. \n",
    "* **CR** пользователей группы **a выше**, чем **CR** пользователей группы **b**."
   ]
  },
  {
   "cell_type": "markdown",
   "metadata": {},
   "source": [
    "Проверим, являются ли эти различия статистически значимы, или нет."
   ]
  },
  {
   "cell_type": "markdown",
   "metadata": {},
   "source": [
    "## Выбор теста для каждой метрики, проведение теста и выводы. "
   ]
  },
  {
   "cell_type": "markdown",
   "metadata": {},
   "source": [
    "### Выбор теста для метрики CR, проведение теста и выводы."
   ]
  },
  {
   "cell_type": "markdown",
   "metadata": {},
   "source": [
    "* При расчете метрики CR работаем с категориальными данными (разбиваем пользователей на категорию \"клиент\" и \"пользователь\"), собираем общую таблицу. \n",
    "* Клиент - платящий пользователь, Пользователь - это любой привлеченный пользователь.   \n",
    "* CR в покупку = (Число_платящих_пользователей / Число_всех_пользователей)*100%"
   ]
  },
  {
   "cell_type": "code",
   "execution_count": 47,
   "metadata": {},
   "outputs": [
    {
     "data": {
      "text/html": [
       "<div>\n",
       "<style scoped>\n",
       "    .dataframe tbody tr th:only-of-type {\n",
       "        vertical-align: middle;\n",
       "    }\n",
       "\n",
       "    .dataframe tbody tr th {\n",
       "        vertical-align: top;\n",
       "    }\n",
       "\n",
       "    .dataframe thead th {\n",
       "        text-align: right;\n",
       "    }\n",
       "</style>\n",
       "<table border=\"1\" class=\"dataframe\">\n",
       "  <thead>\n",
       "    <tr style=\"text-align: right;\">\n",
       "      <th></th>\n",
       "      <th>users</th>\n",
       "      <th>clients</th>\n",
       "    </tr>\n",
       "    <tr>\n",
       "      <th>testgroup</th>\n",
       "      <th></th>\n",
       "      <th></th>\n",
       "    </tr>\n",
       "  </thead>\n",
       "  <tbody>\n",
       "    <tr>\n",
       "      <th>a</th>\n",
       "      <td>202103</td>\n",
       "      <td>1928</td>\n",
       "    </tr>\n",
       "    <tr>\n",
       "      <th>b</th>\n",
       "      <td>202667</td>\n",
       "      <td>1805</td>\n",
       "    </tr>\n",
       "  </tbody>\n",
       "</table>\n",
       "</div>"
      ],
      "text/plain": [
       "            users  clients\n",
       "testgroup                 \n",
       "a          202103     1928\n",
       "b          202667     1805"
      ]
     },
     "execution_count": 47,
     "metadata": {},
     "output_type": "execute_result"
    }
   ],
   "source": [
    "# Соберем таблицу для работы с метрикой CR:\n",
    "df_metrics = df_metrics.set_index('testgroup')\n",
    "df_CR = df_metrics[['numb_users', 'numb_clients']].rename(columns = {'numb_users': 'users', \"numb_clients\": 'clients'})\n",
    "df_CR"
   ]
  },
  {
   "cell_type": "markdown",
   "metadata": {},
   "source": [
    "Поскольку у нас есть две категориальные переменные group (принимает значение a или b) и тип пользователей (users - привлеченные пользователи и clients - клиенты) → нужен **критерий хи-квадрат**. Критерий хи-квадрат можно использовать для проверки того, равны ли у двух категориальных величин распределения.\n",
    "\n",
    "Гипотеза $H_0$: взаимосвязи между переменными (между типом пользователя и типом группы) нет  \n",
    "Гипотеза $H_1$: взаимосвязь есть"
   ]
  },
  {
   "cell_type": "code",
   "execution_count": 48,
   "metadata": {},
   "outputs": [],
   "source": [
    "# В метод хи-квадрат положим табличку выше.\n",
    "stat, p, dof, expected = chi2_contingency(df_CR)"
   ]
  },
  {
   "cell_type": "code",
   "execution_count": 49,
   "metadata": {
    "scrolled": false
   },
   "outputs": [
    {
     "data": {
      "text/plain": [
       "(4.294148751290091, 0.03824373651044168)"
      ]
     },
     "execution_count": 49,
     "metadata": {},
     "output_type": "execute_result"
    }
   ],
   "source": [
    "stat, p\n",
    "# Получили значение статистики хи-квадрат и р-значение. Видно, что р-значение маленькое."
   ]
  },
  {
   "cell_type": "markdown",
   "metadata": {},
   "source": [
    "Интерпретируем результат:"
   ]
  },
  {
   "cell_type": "code",
   "execution_count": 50,
   "metadata": {},
   "outputs": [
    {
     "name": "stdout",
     "output_type": "stream",
     "text": [
      "Отклоняем H0\n"
     ]
    }
   ],
   "source": [
    "# Сравним значение расчитанного р-значения с критическим значением:\n",
    "prob = 0.95\n",
    "alpha = 1.0 - prob\n",
    "if p <= alpha:\n",
    "    print('Отклоняем H0')\n",
    "else:\n",
    "    print('Не отклоняем H0')"
   ]
  },
  {
   "cell_type": "markdown",
   "metadata": {},
   "source": [
    "Таким образом, нужно отклонить гипотезу $H_0$ о том, что взаимосвязи между типом группы и типом пользователя нет. То есть эта взаимосвязь есть, и пользователи разных групп: а (контрольная группа) и b (тестовая группа) имеют разное число клиентов и привлеченных пользователей, причем это различие статистически значимо. \n",
    "Выше, мы считали: \n",
    "1. CR группы a = 0.95\n",
    "2. CR группы b = 0.89\n",
    "\n",
    "Следовательно, в CR группе a больше чем CR в группе b, причем это различие статистически значимо. Однако средняя выручка на пользователя (ARPU) и средняя выручка на клиента (ARPPU) в группе b оказалась выше, чем в группе a. Поэтому, прежде чем делать окончательный вывод о выборе акционного предложения, нужно проверить, является ли различие в этих метриках APRU и ARPPU статистически значимым, или нет."
   ]
  },
  {
   "cell_type": "markdown",
   "metadata": {},
   "source": [
    "### Выбор теста для метрики ARPU, проведение теста и выводы."
   ]
  },
  {
   "cell_type": "markdown",
   "metadata": {},
   "source": [
    "ARPU - средняя выручка на одного пользователя"
   ]
  },
  {
   "cell_type": "code",
   "execution_count": 51,
   "metadata": {},
   "outputs": [
    {
     "data": {
      "text/html": [
       "<div>\n",
       "<style scoped>\n",
       "    .dataframe tbody tr th:only-of-type {\n",
       "        vertical-align: middle;\n",
       "    }\n",
       "\n",
       "    .dataframe tbody tr th {\n",
       "        vertical-align: top;\n",
       "    }\n",
       "\n",
       "    .dataframe thead th {\n",
       "        text-align: right;\n",
       "    }\n",
       "</style>\n",
       "<table border=\"1\" class=\"dataframe\">\n",
       "  <thead>\n",
       "    <tr style=\"text-align: right;\">\n",
       "      <th></th>\n",
       "      <th>testgroup</th>\n",
       "      <th>revenue</th>\n",
       "    </tr>\n",
       "  </thead>\n",
       "  <tbody>\n",
       "    <tr>\n",
       "      <th>0</th>\n",
       "      <td>b</td>\n",
       "      <td>0</td>\n",
       "    </tr>\n",
       "    <tr>\n",
       "      <th>1</th>\n",
       "      <td>a</td>\n",
       "      <td>0</td>\n",
       "    </tr>\n",
       "    <tr>\n",
       "      <th>2</th>\n",
       "      <td>a</td>\n",
       "      <td>0</td>\n",
       "    </tr>\n",
       "    <tr>\n",
       "      <th>3</th>\n",
       "      <td>b</td>\n",
       "      <td>0</td>\n",
       "    </tr>\n",
       "    <tr>\n",
       "      <th>4</th>\n",
       "      <td>b</td>\n",
       "      <td>0</td>\n",
       "    </tr>\n",
       "  </tbody>\n",
       "</table>\n",
       "</div>"
      ],
      "text/plain": [
       "  testgroup  revenue\n",
       "0         b        0\n",
       "1         a        0\n",
       "2         a        0\n",
       "3         b        0\n",
       "4         b        0"
      ]
     },
     "execution_count": 51,
     "metadata": {},
     "output_type": "execute_result"
    }
   ],
   "source": [
    "# Соберем для всех привлеченных пользователей в таблицу с номером группы и выручкой:\n",
    "df_ARPU = df[['testgroup', 'revenue']]\n",
    "df_ARPU.head()"
   ]
  },
  {
   "cell_type": "markdown",
   "metadata": {},
   "source": [
    "Поскольку у нас есть количественная переменная (revenue) и категориальная переменная (testgroup) → нужен **t-тест**. t-тест можно использовать для проверки того, что средние значения двух выборок относятся к одной и той же генеральной совокупности.\n",
    "\n",
    "Гипотеза $H_0$: различий между средними значениями (ARPU - средняя выручка на пользователя) группы a и группы b нет, т.е. наши выборки относятся к одной и той же ГС   \n",
    "Гипотеза $H_1$: различие между средними значениями (ARPU - средняя выручка на пользователя) двух выборок групп a и b статистически значимо."
   ]
  },
  {
   "cell_type": "markdown",
   "metadata": {},
   "source": [
    "***Но перед тем, как использовать t-тест, нужно проверить что его можно применить.***"
   ]
  },
  {
   "cell_type": "markdown",
   "metadata": {},
   "source": [
    "***Условия применимости t-теста:***\n",
    "* Дисперсии внутри наших групп должны быть примерно одинаковы (требование гомогенности дисперсий)\n",
    "* Выборки большого объема и нет выбросов, или сравниваемые выборки должны происходить из *нормально распределенных совокупностей*. \n",
    "* Сравниваемые выборки должны быть независимы (этим занимается система сплитования, и это проверяется на этапе А/А-тестирования)."
   ]
  },
  {
   "cell_type": "code",
   "execution_count": 52,
   "metadata": {
    "scrolled": true
   },
   "outputs": [
    {
     "data": {
      "text/plain": [
       "LeveneResult(statistic=0.3896289474701388, pvalue=0.5324948591043842)"
      ]
     },
     "execution_count": 52,
     "metadata": {},
     "output_type": "execute_result"
    }
   ],
   "source": [
    "# Чтобы убедиться в гомогенности дисперсии, можно применить специальный тест Левина.\n",
    "\n",
    "# Нулевая гипотеза  H0: «Дисперсия среди групп одинакова».\n",
    "# Альтернативная гипотеза H1: «Дисперсия среди групп не одинакова».\n",
    "\n",
    "stats.levene(df_ARPU.query('testgroup == \"a\"').revenue, df_ARPU.query('testgroup == \"b\"').revenue)"
   ]
  },
  {
   "cell_type": "markdown",
   "metadata": {},
   "source": [
    "Получили, что p-значение > 0.05, следовательно мы не можем отклонить нулевую гипотезу о равенстве дисперсий. Т.е. мы можем считать, что дисперсии однородны. "
   ]
  },
  {
   "cell_type": "code",
   "execution_count": 53,
   "metadata": {},
   "outputs": [
    {
     "data": {
      "text/html": [
       "<div>\n",
       "<style scoped>\n",
       "    .dataframe tbody tr th:only-of-type {\n",
       "        vertical-align: middle;\n",
       "    }\n",
       "\n",
       "    .dataframe tbody tr th {\n",
       "        vertical-align: top;\n",
       "    }\n",
       "\n",
       "    .dataframe thead th {\n",
       "        text-align: right;\n",
       "    }\n",
       "</style>\n",
       "<table border=\"1\" class=\"dataframe\">\n",
       "  <thead>\n",
       "    <tr style=\"text-align: right;\">\n",
       "      <th></th>\n",
       "      <th>W</th>\n",
       "      <th>pval</th>\n",
       "      <th>normal</th>\n",
       "    </tr>\n",
       "    <tr>\n",
       "      <th>testgroup</th>\n",
       "      <th></th>\n",
       "      <th></th>\n",
       "      <th></th>\n",
       "    </tr>\n",
       "  </thead>\n",
       "  <tbody>\n",
       "    <tr>\n",
       "      <th>b</th>\n",
       "      <td>326622.395409</td>\n",
       "      <td>0.0</td>\n",
       "      <td>False</td>\n",
       "    </tr>\n",
       "    <tr>\n",
       "      <th>a</th>\n",
       "      <td>585152.731273</td>\n",
       "      <td>0.0</td>\n",
       "      <td>False</td>\n",
       "    </tr>\n",
       "  </tbody>\n",
       "</table>\n",
       "</div>"
      ],
      "text/plain": [
       "                       W  pval  normal\n",
       "testgroup                             \n",
       "b          326622.395409   0.0   False\n",
       "a          585152.731273   0.0   False"
      ]
     },
     "execution_count": 53,
     "metadata": {},
     "output_type": "execute_result"
    }
   ],
   "source": [
    "# Чтобы убедиться в нормальности распределения, можно применить специальный тест Агостино-Пирсона.  \n",
    "\n",
    "# Нулевая гипотеза H0: Выборка изъята из генеральной совокупности, где распределение признака соответствует нормальному\n",
    "# Нулевая гипотеза H1: Выборка изъята из генеральной совокупности, где распределение признака НЕ соответствует нормальному\n",
    "\n",
    "pg.normality(data=df_ARPU, dv=\"revenue\", \n",
    "                   group=\"testgroup\", method=\"normaltest\")"
   ]
  },
  {
   "cell_type": "markdown",
   "metadata": {},
   "source": [
    "Этот тест показал, что наши данные не являются нормальными."
   ]
  },
  {
   "cell_type": "markdown",
   "metadata": {},
   "source": [
    "Наши выборки большого объема, но в выборке группы \"a\" **есть выбросы!**. А t-тест при наличии выбросов может давать некорректные результаты."
   ]
  },
  {
   "cell_type": "markdown",
   "metadata": {},
   "source": [
    "Поскольку наши данные не удовлетворяют условиям применения t-критерия, то можно применить критерий **U- критерий Манна-Уитни**. Он не требует предположений о распределении данных, достаточно устойчив к выбросам, и может быть использован для любого типа данных (кроме различного направления асимметрии в данных).  \n",
    "Однако, его интерпретация достаточно сложная. Нулевая гипотеза U-теста Манна-Уитни заключается в том, что выборки обеих групп были взяты из одной и той же генеральной совокупности. Таким образом, если нулевая гипотеза верна, это означает, что нет никакой разницы в средних рангах между двумя группами, потому что обе группы имеют одинаковые шансы иметь низкие и высокие ранги. Но это не имеет отношения к интересующей нас метрике ARPU.    \n",
    "**Поскольку наших данных не очень много, целесообразнее всего использовать метод bootstrap, который работает на любых данных и имеет понятную интерпретацию, хотя и трудозатратен (в нашей задаче это не очень критично).**"
   ]
  },
  {
   "cell_type": "markdown",
   "metadata": {},
   "source": [
    "Для метода bootstrap:  \n",
    "Гипотеза $H_0$: различий между средними значениями выручки (ARPU) двух выборок групп a и b нет.  \n",
    "Гипотеза $H_1$: различие между средними значениями выручки (ARPU) двух выборок групп a и b статистически значимо."
   ]
  },
  {
   "cell_type": "code",
   "execution_count": 54,
   "metadata": {},
   "outputs": [],
   "source": [
    "# bootstrap.\n",
    "# В каждой нашей симуляции записываем разницу между средней выручкой (ARPU) в контрольной и в тестовой группах. \n",
    "# И потом можем построить доверительный интервал для разницы между ARPU, которую мы бы получали при многократном повторении эксперимента\n",
    "\n",
    "control_df = df[df.testgroup == 'a'] # создадим датафрейм с данными только по контрольной группе\n",
    "exp_df = df[df.testgroup == 'b']     # создадим датафрейм с данными только по тестовой группе\n",
    "ARPU_diff = []                       # создадим список, куда будем записывать разницу между ARPU\n",
    "\n",
    "for i in range(10000):    # делаем эксперимент 10000 раз\n",
    "    sample_data_control = control_df.sample(frac=1, replace=True)   # извлекаем из контрольных данных выборку i\n",
    "    sample_ARPU_control = sample_data_control.revenue.mean()        # посчитаем ARPU для этой выборки i\n",
    "    \n",
    "    sample_data_exp = exp_df.sample(frac=1, replace=True)           # извлекаем тестовых данных выборку j\n",
    "    sample_ARPU_exp = sample_data_exp.revenue.mean()                # посчитаем ARPU для этой выборки j\n",
    "    \n",
    "    sample_ARPU_diff = sample_ARPU_control - sample_ARPU_exp     # посчитаем разницу между ARPU двух выборок\n",
    "    ARPU_diff.append(sample_ARPU_diff)"
   ]
  },
  {
   "cell_type": "code",
   "execution_count": 55,
   "metadata": {},
   "outputs": [
    {
     "name": "stdout",
     "output_type": "stream",
     "text": [
      "Доверительный интервал для разницы между ARPU в двух группах равен: [-6.0; 3.0]\n"
     ]
    }
   ],
   "source": [
    "# Посчитаем 95%-ный доверительный интервал для разницы между ARPU:\n",
    "quan_0975 = pd.Series(ARPU_diff).quantile(0.975).round()\n",
    "quan_0025 = pd.Series(ARPU_diff).quantile(0.025).round()\n",
    "print(\"Доверительный интервал для разницы между ARPU в двух группах равен: [{}; {}]\".format(quan_0025, quan_0975))"
   ]
  },
  {
   "cell_type": "markdown",
   "metadata": {},
   "source": [
    "Доверительный интервал для разницы между ARPU двух групп обеспечивает диапазон значений, который с 95%-ной вероятностью содержит истинную разницу между ARPU генеральной совокупности.  \n",
    "Т.е. с вероятностью 95% различия между ARPU в нашем эксперименте находится в диапазоне [-6, 3]. Поскольку этот интервал содержит значение «0», это означает, что, возможно, нет никакой разницы в ARPU для двух групп. Другими словами, мы не можем с 95% уверенностью сказать, что существует разница в ARPU для двух групп, и не можем отклонить нулевую гипотезу о равенстве APRU для двух групп. Т.е. ARPU не изменилось статистически значимо."
   ]
  },
  {
   "cell_type": "markdown",
   "metadata": {},
   "source": [
    "### Выбор теста для метрики ARPPU, проведение теста и выводы."
   ]
  },
  {
   "cell_type": "markdown",
   "metadata": {},
   "source": [
    "ARPPU - средняя выручка на одного клиента (платящего пользователя)"
   ]
  },
  {
   "cell_type": "code",
   "execution_count": 56,
   "metadata": {},
   "outputs": [
    {
     "data": {
      "text/html": [
       "<div>\n",
       "<style scoped>\n",
       "    .dataframe tbody tr th:only-of-type {\n",
       "        vertical-align: middle;\n",
       "    }\n",
       "\n",
       "    .dataframe tbody tr th {\n",
       "        vertical-align: top;\n",
       "    }\n",
       "\n",
       "    .dataframe thead th {\n",
       "        text-align: right;\n",
       "    }\n",
       "</style>\n",
       "<table border=\"1\" class=\"dataframe\">\n",
       "  <thead>\n",
       "    <tr style=\"text-align: right;\">\n",
       "      <th></th>\n",
       "      <th>testgroup</th>\n",
       "      <th>revenue</th>\n",
       "    </tr>\n",
       "  </thead>\n",
       "  <tbody>\n",
       "    <tr>\n",
       "      <th>72</th>\n",
       "      <td>a</td>\n",
       "      <td>351</td>\n",
       "    </tr>\n",
       "    <tr>\n",
       "      <th>160</th>\n",
       "      <td>b</td>\n",
       "      <td>3797</td>\n",
       "    </tr>\n",
       "    <tr>\n",
       "      <th>341</th>\n",
       "      <td>a</td>\n",
       "      <td>290</td>\n",
       "    </tr>\n",
       "    <tr>\n",
       "      <th>377</th>\n",
       "      <td>b</td>\n",
       "      <td>3768</td>\n",
       "    </tr>\n",
       "    <tr>\n",
       "      <th>385</th>\n",
       "      <td>a</td>\n",
       "      <td>250</td>\n",
       "    </tr>\n",
       "  </tbody>\n",
       "</table>\n",
       "</div>"
      ],
      "text/plain": [
       "    testgroup  revenue\n",
       "72          a      351\n",
       "160         b     3797\n",
       "341         a      290\n",
       "377         b     3768\n",
       "385         a      250"
      ]
     },
     "execution_count": 56,
     "metadata": {},
     "output_type": "execute_result"
    }
   ],
   "source": [
    "# Соберем всех клиентов (платящих пользователей) в таблицу с номером группы и выручкой:\n",
    "df_ARPPU = df.query('revenue > 0')[['testgroup', 'revenue']]\n",
    "df_ARPPU.head()"
   ]
  },
  {
   "cell_type": "markdown",
   "metadata": {},
   "source": [
    "Поскольку у нас есть количественная переменная (revenue) и категориальная переменная (testgroup) → нужен **t-тест**. t-тест можно использовать для проверки того, что средние значения двух выборок относятся к одной и той же генеральной совокупности.\n",
    "\n",
    "Гипотеза $H_0$: различий между средними значениями (ARPPU - средняя выручка на клиента) группы a и группы b нет, т.е. наши выборки относятся к одной и той же ГС   \n",
    "Гипотеза $H_1$: различие между средними значениями (ARPPU - средняя выручка на клиента) двух выборок групп a и b статистически значимо."
   ]
  },
  {
   "cell_type": "markdown",
   "metadata": {},
   "source": [
    "***Но перед тем, как использовать t-тест, нужно проверить что его можно применить.***"
   ]
  },
  {
   "cell_type": "markdown",
   "metadata": {},
   "source": [
    "***Условия применимости t-теста:***\n",
    "* Дисперсии внутри наших групп должны быть примерно одинаковы (требование гомогенности дисперсий)\n",
    "* Выборки большого объема и нет выбросов, или сравниваемые выборки должны происходить из *нормально распределенных совокупностей*. \n",
    "* Сравниваемые выборки должны быть независимы (этим занимается система сплитования, и это проверяется на этапе А/А-тестирования)."
   ]
  },
  {
   "cell_type": "code",
   "execution_count": 57,
   "metadata": {
    "scrolled": true
   },
   "outputs": [
    {
     "data": {
      "text/plain": [
       "LeveneResult(statistic=80.85567421779912, pvalue=3.779689868667878e-19)"
      ]
     },
     "execution_count": 57,
     "metadata": {},
     "output_type": "execute_result"
    }
   ],
   "source": [
    "# Чтобы убедиться в гомогенности дисперсии, можно применить специальный тест Левина.\n",
    "\n",
    "# Нулевая гипотеза  H0: «Дисперсия среди групп одинакова».\n",
    "# Альтернативная гипотеза H1: «Дисперсия среди групп не одинакова».\n",
    "\n",
    "stats.levene(df_ARPPU.query('testgroup == \"a\"').revenue, df_ARPPU.query('testgroup == \"b\"').revenue)"
   ]
  },
  {
   "cell_type": "markdown",
   "metadata": {},
   "source": [
    "Получили, что p-значение < 0.05, следовательно мы можем отклонить нулевую гипотезу о равенстве дисперсий, т.е. дисперсии в наших выборках различны. "
   ]
  },
  {
   "cell_type": "code",
   "execution_count": 58,
   "metadata": {},
   "outputs": [
    {
     "data": {
      "text/html": [
       "<div>\n",
       "<style scoped>\n",
       "    .dataframe tbody tr th:only-of-type {\n",
       "        vertical-align: middle;\n",
       "    }\n",
       "\n",
       "    .dataframe tbody tr th {\n",
       "        vertical-align: top;\n",
       "    }\n",
       "\n",
       "    .dataframe thead th {\n",
       "        text-align: right;\n",
       "    }\n",
       "</style>\n",
       "<table border=\"1\" class=\"dataframe\">\n",
       "  <thead>\n",
       "    <tr style=\"text-align: right;\">\n",
       "      <th></th>\n",
       "      <th>W</th>\n",
       "      <th>pval</th>\n",
       "      <th>normal</th>\n",
       "    </tr>\n",
       "    <tr>\n",
       "      <th>testgroup</th>\n",
       "      <th></th>\n",
       "      <th></th>\n",
       "      <th></th>\n",
       "    </tr>\n",
       "  </thead>\n",
       "  <tbody>\n",
       "    <tr>\n",
       "      <th>a</th>\n",
       "      <td>1394.945784</td>\n",
       "      <td>1.234161e-303</td>\n",
       "      <td>False</td>\n",
       "    </tr>\n",
       "    <tr>\n",
       "      <th>b</th>\n",
       "      <td>1068.860008</td>\n",
       "      <td>7.943249e-233</td>\n",
       "      <td>False</td>\n",
       "    </tr>\n",
       "  </tbody>\n",
       "</table>\n",
       "</div>"
      ],
      "text/plain": [
       "                     W           pval  normal\n",
       "testgroup                                    \n",
       "a          1394.945784  1.234161e-303   False\n",
       "b          1068.860008  7.943249e-233   False"
      ]
     },
     "execution_count": 58,
     "metadata": {},
     "output_type": "execute_result"
    }
   ],
   "source": [
    "# Чтобы убедиться в нормальности распределения, можно применить специальный тест Агостино-Пирсона.  \n",
    "\n",
    "# Нулевая гипотеза H0: Выборка изъята из генеральной совокупности, где распределение признака соответствует нормальному\n",
    "# Нулевая гипотеза H1: Выборка изъята из генеральной совокупности, где распределение признака НЕ соответствует нормальному\n",
    "\n",
    "pg.normality(data=df_ARPPU, dv=\"revenue\", \n",
    "                   group=\"testgroup\", method=\"normaltest\")"
   ]
  },
  {
   "cell_type": "markdown",
   "metadata": {},
   "source": [
    "Этот тест показал, что наши данные не являются нормальными."
   ]
  },
  {
   "cell_type": "markdown",
   "metadata": {},
   "source": [
    "Наши выборки большого объема, но в выборке группы \"a\" **есть выбросы!**. А t-тест при наличии выбросов может давать некорректные результаты."
   ]
  },
  {
   "cell_type": "markdown",
   "metadata": {},
   "source": [
    "Поскольку наши данные не удовлетворяют условиям применения t-критерия, то можно применить критерий **U- критерий Манна-Уитни**. Он не требует предположений о распределении данных, достаточно устойчив к выбросам, и может быть использован для любого типа данных (кроме различного направления асимметрии в данных).  \n",
    "Однако, его интерпретация достаточно сложная. Нулевая гипотеза U-теста Манна-Уитни заключается в том, что выборки обеих групп были взяты из одной и той же генеральной совокупности. Таким образом, если нулевая гипотеза верна, это означает, что нет никакой разницы в средних рангах между двумя группами, потому что обе группы имеют одинаковые шансы иметь низкие и высокие ранги. Но это не имеет отношения к интересующей нас метрике ARPU.    \n",
    "**Поскольку наших данных не очень много, целесообразнее всего использовать метод bootstrap, который работает на любых данных и имеет понятную интерпретацию, хотя и трудозатратен (в нашей задаче это не очень критично).**"
   ]
  },
  {
   "cell_type": "markdown",
   "metadata": {},
   "source": [
    "**Для метода bootstrap:**  \n",
    "Гипотеза $H_0$: различий между средними значениями (ARPPU - средняя выручка на клиента) двух выборок групп a и b нет.  \n",
    "Гипотеза $H_1$: различие между средними значениями (ARPPU - средняя выручка на клиента) двух выборок групп a и b статистически значимо."
   ]
  },
  {
   "cell_type": "code",
   "execution_count": 59,
   "metadata": {},
   "outputs": [],
   "source": [
    "# bootstrap.\n",
    "# В каждой нашей симуляции записываем разницу между средней выручкой на клиента (ARPPU) в контрольной и в тестовой группах. \n",
    "# И потом можем построить доверительный интервал для разницы между ARPPU, которую мы бы получали при многократном повторении эксперимента\n",
    "\n",
    "control_df =  df[(df.revenue > 0) & (df.testgroup == 'a')] # создадим датафрейм с данными только по контрольной группе\n",
    "exp_df =  df[(df.revenue > 0) & (df.testgroup == 'b')]     # создадим датафрейм с данными только по тестовой группе\n",
    "ARPPU_diff = []                                            # создадим список, куда будем записывать разницу между ARPPU\n",
    "\n",
    "for i in range(10000):    # делаем эксперимент 10000 раз\n",
    "    sample_data_control = control_df.sample(frac=1, replace=True)    # извлекаем из контрольных данных выборку i\n",
    "    sample_ARPPU_control = sample_data_control.revenue.mean()        # посчитаем ARPPU для этой выборки i\n",
    "    \n",
    "    sample_data_exp = exp_df.sample(frac=1, replace=True)            # извлекаем тестовых данных выборку j\n",
    "    sample_ARPPU_exp = sample_data_exp.revenue.mean()                # посчитаем ARPPU для этой выборки j\n",
    "    \n",
    "    sample_ARPPU_diff = sample_ARPPU_control - sample_ARPPU_exp      # посчитаем разницу между ARPU двух выборок\n",
    "    ARPPU_diff.append(sample_ARPPU_diff)"
   ]
  },
  {
   "cell_type": "code",
   "execution_count": 60,
   "metadata": {},
   "outputs": [
    {
     "name": "stdout",
     "output_type": "stream",
     "text": [
      "Доверительный интервал для разницы между ARPPU в двух группах равен: [-735.0; 66.0]\n"
     ]
    }
   ],
   "source": [
    "# Посчитаем 95%-ный доверительный интервал для разницы между ARPPU:\n",
    "quan_0975 = pd.Series(ARPPU_diff).quantile(0.975).round()\n",
    "quan_0025 = pd.Series(ARPPU_diff).quantile(0.025).round()\n",
    "print(\"Доверительный интервал для разницы между ARPPU в двух группах равен: [{}; {}]\".format(quan_0025, quan_0975))"
   ]
  },
  {
   "cell_type": "markdown",
   "metadata": {},
   "source": [
    "Доверительный интервал для разницы между ARPPU двух групп обеспечивает диапазон значений, который с 95%-ной вероятностью содержит истинную разницу между ARPPU генеральной совокупности.  \n",
    "Т.е. с вероятностью 95% различия между ARPPU в нашем эксперименте находится в диапазоне [-733, 66]. Поскольку этот интервал содержит значение «0», это означает, что, возможно, нет никакой разницы в ARPPU для двух групп. Другими словами, мы не можем с 95% уверенностью сказать, что существует разница в ARPPU для двух групп, и не можем отклонить нулевую гипотезу о равенстве ARPPU для двух групп. Т.е. ARPPU не изменилось статистически значимо."
   ]
  },
  {
   "cell_type": "markdown",
   "metadata": {},
   "source": [
    "### Вывод по заданию 2:"
   ]
  },
  {
   "cell_type": "markdown",
   "metadata": {},
   "source": [
    "1. Корректность работы системы плитования ставится под сомнение так как распределение выручки для привлеченных пользователей и клиентов групп a и b значительно отличается по форме. При этом в группе а есть особенные пользователи (\"выбросы\") у которых сумма чека составляет более 35000 условных едениц.\n",
    "2. Конверсия в тестовой группе a и в контрольной группе b отличается статистически значимо.\n",
    "3. ARPU и ARPPU не изменились статистически значимо, поэтому можно сказать, что для тестовой и контрольной группы пользователей среднияя выручка на пользователя и средняя выручка на клиента не изменилась статистически значимо.  \n",
    "**Следовательно, в группе a наблюдается увеличение CR по сравнению с группой b, при этом средняя выручка не изменилась, т.е. можно сделать вывод о том, что акционные предложения в группе a лучше по сравнению с группой b.**"
   ]
  },
  {
   "cell_type": "markdown",
   "metadata": {},
   "source": [
    "Рекомендации:\n",
    "1. Рекомендуется провести систему сплитования на корректность с помощью А/А тестирования.\n",
    "2. Рекомедуется рассмотреть более внимательно пользователей, платящих более 35000 условных единиц, например, предложить им отдельный набор акционных предложений, чтобы они больше покупали, что значительно увеличит среднюю выручку на пользователя. "
   ]
  },
  {
   "cell_type": "markdown",
   "metadata": {},
   "source": [
    "## Задание 3."
   ]
  },
  {
   "cell_type": "markdown",
   "metadata": {},
   "source": [
    "**В игре Plants & Gardens каждый месяц проводятся тематические события, ограниченные по времени. В них игроки могут получить уникальные предметы для сада и персонажей, дополнительные монеты или бонусы. Для получения награды требуется пройти ряд уровней за определенное время. С помощью каких метрик можно оценить результаты последнего прошедшего события?**"
   ]
  },
  {
   "cell_type": "markdown",
   "metadata": {},
   "source": [
    "**Метрики трафика (аудитория):**    \n",
    "1. DAU - (Daily Active Users) — количество уникальных пользователей, которые зашли в приложение в течение суток. Увеличение показателя DAU после введения тематического события говорит о том, что наш продукт стал более интересен пользователям, чем до введения события. Также для определения среднего показателя DAU за период тематического события можно рассчитать среднюю дневную аудиторию — среднее арифметическое дневной аудитории за период тематического события (т.е. за месяц).  \n",
    "2. WAU (Weekly Active Users) — это количество уникальных пользователей, которые зашли в приложение в неделю.\n",
    "3. MAU (Monthly Active Users — это количество уникальных пользователей, которые зашли в приложение в течение месяца. \n",
    "4. Частота использования продукта (Stickness ratio) - отношение средней дневной аудитории к месячной. Показывает, как часто клиенты возвращаются в приложение в течение месяца. Чем выше Stickness ratio, тем охотнее пользователи рекомендуют приложение друзьям и знакомым, тем больше прирост активной аудитории.\n",
    "5. Доля клиентов относительно привлеченных пользователей за месяц. Если после введения тематического события доля клиентов по отношению к привлеченным пользователям увеличилась, то это свидетельствует о том, что данное тематическое приложение стимулирует пользователей покупать продукт. \n",
    "6. Доля отвалившихся/ вернувшихся пользователей за месяц. Бывает такое, что после введение события, при котором слишком трудно получить призы, наоборот, пользователи начинают уходить из продукта. Если с введением тематического события расчет число отвалившихся пользователей, то его стоит модернизировать.     \n",
    "*Метрики 1-6 можно отслеживать в динамике, т.е. до проведения тематического события, и после введения тематического события, чтобы оценить, насколько введение тематического события повлияло на увеличение аудитории.* \n",
    "\n",
    "**Метрики мобильного приложения:**  \n",
    "Сессия — это время, которое пользователь провел в мобильном приложении с момента запуска до окончания его использования.  \n",
    "  7. Средняя продолжительность сессии (average session length, ASL) – среднее арифметическое длин всех сессий. ASL =  T/N   где T — суммарная продолжительность сессий за период, N — общее количество сессий за тот же период.  \n",
    "  8. Количество сеансов (сессий) на пользователя за месяц. Эта метрика помогает понять, как часто пользователи возвращаются и используют приложение.    \n",
    "*Эта метрика может свидетельствовать о том, насколько интересно пользователю проводить время в приложении. То есть это косвенный критерий качества. Кроме того, если в нашем приложении есть платный контент, то с увеличением средней продолжительности сессии вырастает и вероятность того, что пользователь решит заплатить.\n",
    "Если после введения тематического события, пользователь стал больше времени проводить в приложении, значит, расчет вероятность получить с него больше прибыли.*  \n",
    "\n",
    "**Показатели доходов:**   \n",
    "Поскольку тематическое событие длится в течение месяца, то можно рассчитывать эти показатели за месяц как раз, сравнивая их с периодом до проведения события, во время проведения события, и после проведения события:  \n",
    "9. ARPPU – средний доход в месяц с привлеченного клиента (платящего пользователя). ARPPU =  Доход/(Число клиентов)  \n",
    "10. ARPU – средний доход в месяц с привлеченного пользователя. ARPU =  Доход/(Число пользователей).  \n",
    "11. ARPDAU (Average Revenue Per Daily Active User или средняя выручка на ежедневно активного пользователя) — важная метрика, которая позволяет не только считать выручку, но и оценивать эффективность введения тематического события. Рассчитывается так: ARPDAU =  (Выручка за день)/(DAU). Чем больше ARPDAU, тем больше активных пользователей, т.е. они смотрят рекламу активнее, следовательно, тем больше рекламных денег на одного пользователя мы получаем.     \n",
    "*Проведение тематических событий может привести к покупке каких-то жизней, или бонусов за реальные деньги, т.е. к увеличению числа клиентов, и потому к увеличению дохода за счет покупок в приложении. Также проведение событий может повлиять на просмотр рекламы, и на увеличение дохода за счет просмотра рекламы.*   \n",
    "\n",
    "12. Lifetime – cредний срок жизни клиента. Это время, в течение которого клиент продолжает покупки в течение месяца.    \n",
    "*Метрика 12 важна так как тематическое событие направлено на то, чтобы увеличить средний срок жизни клиента, заинтересовать его в продолжении покупок.*\n",
    "\n",
    "**Конверсия:**  \n",
    "13. Конверсия в покупку (проведение тематических события может простимулировать пользователя купить жизни, время игры и т.п.)  \n",
    "14. Конверсия в прохождение какого-то определенного количества уровней (например, 10 уровней) и конверсия в получение наград.       \n",
    "*Метрика 13 напрямую влияет на увеличение дохода компании, а метрика 13 показывает, насколько пользователи действительно пользуются преимуществами данного события, и насколько активно участвуют в нем.*\n",
    "        \n",
    "**Метрики лояльности пользователей:**   \n",
    "15. Retention n-го дня - показывает сколько пользователей, пришедших в определенный день, вернулось в продукт на n-ый день с момента своего прихода. Retention считается для кагорт. Можно изменить взвешенное среднее арифметическое RR n-ного дня, чтобы оценить как в целом изменялся этот параметр за период.  \n",
    "16. Коэффициент оттока churn rate (это метрика, обратная к retention: Сhurn Rate = 1 - Retention rate   \n",
    "*Это важные показатели, их нужно смотреть в динамике, чтобы понять, помогает ли введение тематического события увеличить возвращаемость пользователей в игру. Одной из важных задач в работе над продуктом является удержание пользователей, поскольку, даже если маркетинг привлекает пользователей, но они не возвращаются продукт, толку от этого мало: тратится много денег на привлечение, но пользователи уходят. Одним из целей проведения разного рода тематических событий является как раз увеличение удержания пользователей в продукте.* \n",
    "\n",
    "**Прочие метрики:**  \n",
    "17. NPS (net promoter score) — метрика уровня лояльности пользователей. Измеряется с помощью опросников, отражается в процентах. NPS измеряет количество постоянных клиентов, которые могут порекомендовать продукт (промоутеры), и тех клиентов, которые его ненавидят. NPS = % of promoters - % of detractors  \n",
    "18. Оценка удовлетворенности клиентов (customer satisfaction score, CSAT) — измеряет общий уровень недовольства пользователя по поводу определенного продукта или функции. Пользователей просят оценить продукт или услугу по шкале 1-3, 1-5 или 1- 10. CSAT рассчитывается путем суммирования балла и деления его на количество респондентов.  \n",
    "CSAT =  (количество оценок 7,8,9,10)/(количество ответов на вопрос) * 100%  \n",
    "*Это метрики, которые нужны, чтобы понять, нравится тематическое событие пользователям, или нет.* "
   ]
  },
  {
   "cell_type": "markdown",
   "metadata": {},
   "source": [
    "**Предположим, в другом событии мы усложнили механику событий так, что при каждой неудачной попытке выполнения уровня игрок будет откатываться на несколько уровней назад. Изменится ли набор метрик оценки результата? Если да, то как?**\n",
    "При усложнении механики событий важно следить, чтобы интерес пользователей к игре не угас, а наоборот увеличился, и чтобы это нововведение не привело к оттоку пользователей из продукта.\n",
    "При усложнении механики игры все перечисленные метрики остаются. Но стоит обратить особое внимание на следующие метрики:\n",
    "* Retention n-го дня. Доля отвалившихся/ вернувшихся пользователей за месяц. ASL.   \n",
    "  *Уменьшение этих показателей свидетельствует, что усложнение механики игры привело к оттоку пользователей, и уменьшению заинтересованности приложением.*   \n",
    "* Доля клиентов относительно привлеченных пользователей за месяц. Конверсия в покупку. ARPPU. ARPU. ARPDAU.   \n",
    "  *Усложнение механики игры может привести к тому, что пользователи начнут больше просматривать рекламу за жизни, покупать жизни и бонусы, чтобы пройти уровень, и не откатываться назад.*   \n",
    "* NPS. CSAT.  \n",
    "  *Удовлетворенность пользователей игрой может уменьшится так как возможность отката на несколько уровней назад может привести к тому, что пользователи будут недовольны этим нововведением, и потеряют желание играть.*   \n",
    "\n",
    "**К этим метрикам можно добавить:**  \n",
    "19. Количество игроков откатившихся на несколько уровней назад, и сколько из них остаются в игре.  \n",
    "20. Сколько игроков покидают игру после отката на несколько уровней.  \n",
    "\n",
    "Если показатели удовлетворенности низкие, и отток пользователей растет, то даже при увеличении дохода на пользователя имеет смысл откатить это событие назад, поскольку есть риск потерять большое количество пользователей, и падения интереса к нашей игре. Рекомендуется до усложнения механики событий, проанализировать пользователей на вовлеченность в процесс игры, правильно их сегментировать, оценить, какие пользователи готовы проходить один и тот же уровень за получение суперприза, и только для этой небольшой группы пользователей усложнить механику игры. При этом необходимо внимательно следить, чтобы интерес этих пользователей к игре рос, если он начнет падать, то вернуть им обычное тематическое событие без усложния механики. "
   ]
  },
  {
   "cell_type": "code",
   "execution_count": null,
   "metadata": {},
   "outputs": [],
   "source": []
  },
  {
   "cell_type": "code",
   "execution_count": null,
   "metadata": {},
   "outputs": [],
   "source": []
  }
 ],
 "metadata": {
  "kernelspec": {
   "display_name": "Python 3 (ipykernel)",
   "language": "python",
   "name": "python3"
  },
  "language_info": {
   "codemirror_mode": {
    "name": "ipython",
    "version": 3
   },
   "file_extension": ".py",
   "mimetype": "text/x-python",
   "name": "python",
   "nbconvert_exporter": "python",
   "pygments_lexer": "ipython3",
   "version": "3.9.13"
  }
 },
 "nbformat": 4,
 "nbformat_minor": 4
}
